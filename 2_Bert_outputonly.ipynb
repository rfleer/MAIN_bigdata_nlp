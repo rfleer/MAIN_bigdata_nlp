{
 "cells": [
  {
   "attachments": {},
   "cell_type": "markdown",
   "id": "5bca8ba1-56c7-4d26-b34b-30079e0fa79b",
   "metadata": {},
   "source": [
    "# Sarcasm detection - MAIN CAS, modules text analytics and big data, Rita Fleer\n",
    "\n",
    "This script only shows the output from the Bert model training because it stoped working in the other script for some unknown reason. It cannot be run on a stand-alone basis."
   ]
  },
  {
   "cell_type": "markdown",
   "id": "78f1a16f-bb1a-442a-b37c-54c9f7ccc4bd",
   "metadata": {},
   "source": [
    "# BERT"
   ]
  },
  {
   "cell_type": "code",
   "execution_count": 45,
   "id": "ef0efa2a-c26e-43be-8500-259cb6216f1a",
   "metadata": {},
   "outputs": [],
   "source": [
    "tokenizer = transformers.BertTokenizer.from_pretrained('bert-base-uncased')"
   ]
  },
  {
   "cell_type": "code",
   "execution_count": 46,
   "id": "1893185f-395f-4491-abc4-6a6110239d5a",
   "metadata": {},
   "outputs": [],
   "source": [
    "def create_bert_input_features(tokenizer, docs, max_seq_length):\n",
    "    \n",
    "    all_ids, all_masks, all_segments= [], [], []\n",
    "    for doc in docs:\n",
    "        \n",
    "        tokens = tokenizer.tokenize(doc)\n",
    "        \n",
    "        if len(tokens) > max_seq_length-2:\n",
    "            tokens = tokens[0 : (max_seq_length-2)]\n",
    "        tokens = ['[CLS]'] + tokens + ['[SEP]']\n",
    "        ids = tokenizer.convert_tokens_to_ids(tokens)\n",
    "        masks = [1] * len(ids) # [1,1,1.....] # 500 ones\n",
    "        \n",
    "        # Zero-pad up to the sequence length.\n",
    "        while len(ids) < max_seq_length:\n",
    "            ids.append(0)\n",
    "            masks.append(0)\n",
    "            \n",
    "        segments = [0] * max_seq_length # [0,0,0...] # 500 zeros\n",
    "        all_ids.append(ids)\n",
    "        all_masks.append(masks)\n",
    "        all_segments.append(segments)\n",
    "        \n",
    "    encoded = np.array([all_ids, all_masks, all_segments])\n",
    "    \n",
    "    return encoded"
   ]
  },
  {
   "cell_type": "code",
   "execution_count": 47,
   "id": "9a05cbc6-396a-476a-a637-06a5cf69d07e",
   "metadata": {},
   "outputs": [
    {
     "name": "stdout",
     "output_type": "stream",
     "text": [
      "Train Features: (23086, 20) (23086, 20) (23086, 20)\n",
      "Val Features: (2566, 20) (2566, 20) (2566, 20)\n"
     ]
    }
   ],
   "source": [
    "MAX_SEQ_LENGTH = 20\n",
    "\n",
    "inp_id = tf.keras.layers.Input(shape=(MAX_SEQ_LENGTH,), dtype='int32', name=\"bert_input_ids\")\n",
    "inp_mask = tf.keras.layers.Input(shape=(MAX_SEQ_LENGTH,), dtype='int32', name=\"bert_input_masks\")\n",
    "inp_segment = tf.keras.layers.Input(shape=(MAX_SEQ_LENGTH,), dtype='int32', name=\"bert_segment_ids\")\n",
    "\n",
    "train_features_ids, train_features_masks, train_features_segments = create_bert_input_features(tokenizer, \n",
    "                                                                                               train_hl, \n",
    "                                                                                               max_seq_length=MAX_SEQ_LENGTH)\n",
    "\n",
    "val_features_ids, val_features_masks, val_features_segments = create_bert_input_features(tokenizer, \n",
    "                                                                                         val_hl, \n",
    "                                                                                         max_seq_length=MAX_SEQ_LENGTH)\n",
    "#test_features = create_bert_input_features(tokenizer, test_reviews, max_seq_length=MAX_SEQ_LENGTH)\n",
    "print('Train Features:', train_features_ids.shape, train_features_masks.shape, train_features_segments.shape)\n",
    "print('Val Features:', val_features_ids.shape, val_features_masks.shape, val_features_segments.shape)"
   ]
  },
  {
   "cell_type": "code",
   "execution_count": 48,
   "id": "4d0128d9-aca9-4918-b9a7-66572a18e86c",
   "metadata": {},
   "outputs": [
    {
     "name": "stderr",
     "output_type": "stream",
     "text": [
      "Some weights of the PyTorch model were not used when initializing the TF 2.0 model TFBertModel: ['cls.predictions.transform.dense.bias', 'cls.predictions.transform.dense.weight', 'cls.predictions.bias', 'cls.predictions.transform.LayerNorm.weight', 'cls.seq_relationship.weight', 'cls.seq_relationship.bias', 'cls.predictions.transform.LayerNorm.bias']\n",
      "- This IS expected if you are initializing TFBertModel from a PyTorch model trained on another task or with another architecture (e.g. initializing a TFBertForSequenceClassification model from a BertForPreTraining model).\n",
      "- This IS NOT expected if you are initializing TFBertModel from a PyTorch model that you expect to be exactly identical (e.g. initializing a TFBertForSequenceClassification model from a BertForSequenceClassification model).\n",
      "All the weights of TFBertModel were initialized from the PyTorch model.\n",
      "If your task is similar to the task the model of the checkpoint was trained on, you can already use TFBertModel for predictions without further training.\n"
     ]
    },
    {
     "name": "stdout",
     "output_type": "stream",
     "text": [
      "Model: \"model\"\n",
      "__________________________________________________________________________________________________\n",
      " Layer (type)                Output Shape                 Param #   Connected to                  \n",
      "==================================================================================================\n",
      " bert_input_ids (InputLayer  [(None, 20)]                 0         []                            \n",
      " )                                                                                                \n",
      "                                                                                                  \n",
      " bert_input_masks (InputLay  [(None, 20)]                 0         []                            \n",
      " er)                                                                                              \n",
      "                                                                                                  \n",
      " bert_segment_ids (InputLay  [(None, 20)]                 0         []                            \n",
      " er)                                                                                              \n",
      "                                                                                                  \n",
      " tf_bert_model (TFBertModel  TFBaseModelOutputWithPooli   1094822   ['bert_input_ids[0][0]',      \n",
      " )                           ngAndCrossAttentions(last_   40         'bert_input_masks[0][0]',    \n",
      "                             hidden_state=(None, 20, 76              'bert_segment_ids[0][0]']    \n",
      "                             8),                                                                  \n",
      "                              pooler_output=(None, 768)                                           \n",
      "                             , past_key_values=None, hi                                           \n",
      "                             dden_states=None, attentio                                           \n",
      "                             ns=None, cross_attentions=                                           \n",
      "                             None)                                                                \n",
      "                                                                                                  \n",
      " dense_4 (Dense)             (None, 256)                  196864    ['tf_bert_model[0][1]']       \n",
      "                                                                                                  \n",
      " dropout_37 (Dropout)        (None, 256)                  0         ['dense_4[0][0]']             \n",
      "                                                                                                  \n",
      " dense_5 (Dense)             (None, 256)                  65792     ['dropout_37[0][0]']          \n",
      "                                                                                                  \n",
      " dropout_38 (Dropout)        (None, 256)                  0         ['dense_5[0][0]']             \n",
      "                                                                                                  \n",
      " dense_6 (Dense)             (None, 1)                    257       ['dropout_38[0][0]']          \n",
      "                                                                                                  \n",
      "==================================================================================================\n",
      "Total params: 109745153 (418.64 MB)\n",
      "Trainable params: 109745153 (418.64 MB)\n",
      "Non-trainable params: 0 (0.00 Byte)\n",
      "__________________________________________________________________________________________________\n"
     ]
    }
   ],
   "source": [
    "#build the model\n",
    "\n",
    "inputs = [inp_id, inp_mask, inp_segment]\n",
    "\n",
    "hidden_state = transformers.TFBertModel.from_pretrained('bert-base-uncased')(inputs)\n",
    "pooled_output = hidden_state[1]\n",
    "\n",
    "dense1 = tf.keras.layers.Dense(256, activation='relu')(pooled_output)\n",
    "drop1 = tf.keras.layers.Dropout(0.25)(dense1)\n",
    "dense2 = tf.keras.layers.Dense(256, activation='relu')(drop1)\n",
    "drop2 = tf.keras.layers.Dropout(0.25)(dense2)\n",
    "\n",
    "output = tf.keras.layers.Dense(1, activation='sigmoid')(drop2)\n",
    "\n",
    "model = tf.keras.Model(inputs=inputs, outputs=output)\n",
    "\n",
    "model.compile(optimizer=tf.optimizers.Adam(learning_rate=2e-5, \n",
    "                                           epsilon=1e-08), \n",
    "              loss='binary_crossentropy', metrics=['accuracy'])\n",
    "\n",
    "model.summary()"
   ]
  },
  {
   "cell_type": "code",
   "execution_count": 49,
   "id": "b5dd8866-ff37-4804-bdf7-5775cd45f622",
   "metadata": {},
   "outputs": [
    {
     "name": "stdout",
     "output_type": "stream",
     "text": [
      "Epoch 1/15\n",
      "WARNING:tensorflow:AutoGraph could not transform <function Model.make_train_function.<locals>.train_function at 0x7fabcc198ae0> and will run it as-is.\n",
      "Please report this to the TensorFlow team. When filing the bug, set the verbosity to 10 (on Linux, `export AUTOGRAPH_VERBOSITY=10`) and attach the full output.\n",
      "Cause: closure mismatch, requested ('self', 'step_function'), but source function had ()\n",
      "To silence this warning, decorate the function with @tf.autograph.experimental.do_not_convert\n",
      "WARNING: AutoGraph could not transform <function Model.make_train_function.<locals>.train_function at 0x7fabcc198ae0> and will run it as-is.\n",
      "Please report this to the TensorFlow team. When filing the bug, set the verbosity to 10 (on Linux, `export AUTOGRAPH_VERBOSITY=10`) and attach the full output.\n",
      "Cause: closure mismatch, requested ('self', 'step_function'), but source function had ()\n",
      "To silence this warning, decorate the function with @tf.autograph.experimental.do_not_convert\n",
      "722/722 [==============================] - ETA: 0s - loss: 0.3156 - accuracy: 0.8659WARNING:tensorflow:AutoGraph could not transform <function Model.make_test_function.<locals>.test_function at 0x7fa943b53d80> and will run it as-is.\n",
      "Please report this to the TensorFlow team. When filing the bug, set the verbosity to 10 (on Linux, `export AUTOGRAPH_VERBOSITY=10`) and attach the full output.\n",
      "Cause: closure mismatch, requested ('self', 'step_function'), but source function had ()\n",
      "To silence this warning, decorate the function with @tf.autograph.experimental.do_not_convert\n",
      "WARNING: AutoGraph could not transform <function Model.make_test_function.<locals>.test_function at 0x7fa943b53d80> and will run it as-is.\n",
      "Please report this to the TensorFlow team. When filing the bug, set the verbosity to 10 (on Linux, `export AUTOGRAPH_VERBOSITY=10`) and attach the full output.\n",
      "Cause: closure mismatch, requested ('self', 'step_function'), but source function had ()\n",
      "To silence this warning, decorate the function with @tf.autograph.experimental.do_not_convert\n",
      "722/722 [==============================] - 110s 110ms/step - loss: 0.3156 - accuracy: 0.8659 - val_loss: 0.2368 - val_accuracy: 0.8948\n",
      "Epoch 2/15\n",
      "722/722 [==============================] - 84s 116ms/step - loss: 0.1455 - accuracy: 0.9448 - val_loss: 0.2559 - val_accuracy: 0.9092\n",
      "Epoch 3/15\n",
      "722/722 [==============================] - 83s 114ms/step - loss: 0.0647 - accuracy: 0.9773 - val_loss: 0.2942 - val_accuracy: 0.9193\n",
      "Epoch 4/15\n",
      "722/722 [==============================] - ETA: 0s - loss: 0.0318 - accuracy: 0.9890Restoring model weights from the end of the best epoch: 1.\n",
      "722/722 [==============================] - 76s 105ms/step - loss: 0.0318 - accuracy: 0.9890 - val_loss: 0.3068 - val_accuracy: 0.9108\n",
      "Epoch 4: early stopping\n"
     ]
    }
   ],
   "source": [
    "es = tf.keras.callbacks.EarlyStopping(monitor='val_loss', \n",
    "                                      patience=3,\n",
    "                                      restore_best_weights=True,\n",
    "                                      verbose=1)\n",
    "history = model.fit([train_features_ids, \n",
    "           train_features_masks, \n",
    "           train_features_segments], train_l, \n",
    "          validation_data=([val_features_ids, \n",
    "                            val_features_masks, \n",
    "                            val_features_segments], val_l),\n",
    "          epochs=15, \n",
    "          batch_size=32, \n",
    "          callbacks=[es],\n",
    "          shuffle=True,\n",
    "          verbose=1)"
   ]
  },
  {
   "cell_type": "code",
   "execution_count": 50,
   "id": "fb1eebf6-6c34-43f4-8d04-4b7eb44bd675",
   "metadata": {},
   "outputs": [
    {
     "data": {
      "image/png": "[encoded data removed]",
      "text/plain": [
       "<Figure size 640x480 with 1 Axes>"
      ]
     },
     "metadata": {},
     "output_type": "display_data"
    },
    {
     "data": {
      "image/png": "[encoded data removed]",
      "text/plain": [
       "<Figure size 640x480 with 1 Axes>"
      ]
     },
     "metadata": {},
     "output_type": "display_data"
    }
   ],
   "source": [
    "plot_graphs(history, 'accuracy')\n",
    "plot_graphs(history, 'loss')"
   ]
  },
  {
   "cell_type": "code",
   "execution_count": 51,
   "id": "47efdfb4-35d5-4154-9b4b-2c82375141c8",
   "metadata": {},
   "outputs": [
    {
     "name": "stdout",
     "output_type": "stream",
     "text": [
      "Test Features: (2851, 20) (2851, 20) (2851, 20)\n"
     ]
    }
   ],
   "source": [
    "test_features_ids, test_features_masks, test_features_segments = create_bert_input_features(tokenizer, \n",
    "                                                                                            test_hl, \n",
    "                                                                                            max_seq_length=MAX_SEQ_LENGTH)\n",
    "print('Test Features:', test_features_ids.shape, test_features_masks.shape, test_features_segments.shape)"
   ]
  },
  {
   "cell_type": "code",
   "execution_count": 56,
   "id": "352ecabe-bebc-43df-ad47-3bde52fabf6f",
   "metadata": {},
   "outputs": [
    {
     "name": "stdout",
     "output_type": "stream",
     "text": [
      "Accuracy: 90.18%\n",
      "              precision    recall  f1-score   support\n",
      "\n",
      "           0       0.97      0.84      0.90      1516\n",
      "           1       0.84      0.97      0.90      1335\n",
      "\n",
      "    accuracy                           0.90      2851\n",
      "   macro avg       0.91      0.91      0.90      2851\n",
      "weighted avg       0.91      0.90      0.90      2851\n",
      "\n"
     ]
    },
    {
     "data": {
      "text/html": [
       "<div>\n",
       "<style scoped>\n",
       "    .dataframe tbody tr th:only-of-type {\n",
       "        vertical-align: middle;\n",
       "    }\n",
       "\n",
       "    .dataframe tbody tr th {\n",
       "        vertical-align: top;\n",
       "    }\n",
       "\n",
       "    .dataframe thead th {\n",
       "        text-align: right;\n",
       "    }\n",
       "</style>\n",
       "<table border=\"1\" class=\"dataframe\">\n",
       "  <thead>\n",
       "    <tr style=\"text-align: right;\">\n",
       "      <th></th>\n",
       "      <th>0</th>\n",
       "      <th>1</th>\n",
       "    </tr>\n",
       "  </thead>\n",
       "  <tbody>\n",
       "    <tr>\n",
       "      <th>0</th>\n",
       "      <td>1276</td>\n",
       "      <td>240</td>\n",
       "    </tr>\n",
       "    <tr>\n",
       "      <th>1</th>\n",
       "      <td>40</td>\n",
       "      <td>1295</td>\n",
       "    </tr>\n",
       "  </tbody>\n",
       "</table>\n",
       "</div>"
      ],
      "text/plain": [
       "      0     1\n",
       "0  1276   240\n",
       "1    40  1295"
      ]
     },
     "execution_count": 56,
     "metadata": {},
     "output_type": "execute_result"
    }
   ],
   "source": [
    "\n",
    "bert_predictions = [1 if pr > 0.5 else 0 \n",
    "                   for pr in model.predict([test_features_ids, \n",
    "                                            test_features_masks, \n",
    "                                            test_features_segments], verbose=0).ravel()]\n",
    "\n",
    "print(\"Accuracy: %.2f%%\" % (accuracy_score(test_l, bert_predictions)*100))\n",
    "print(classification_report(test_l, bert_predictions))\n",
    "pd.DataFrame(confusion_matrix(test_l, bert_predictions))"
   ]
  },
  {
   "cell_type": "code",
   "execution_count": 57,
   "id": "6c96ec0b-ac6c-4f8e-a285-0a07ba6e331f",
   "metadata": {},
   "outputs": [],
   "source": [
    "pred = model.predict([test_features_ids, test_features_masks, test_features_segments], verbose=0).ravel()\n"
   ]
  },
  {
   "cell_type": "code",
   "execution_count": 58,
   "id": "709fb5c1-bfe4-478a-a7cc-323f78bf8ba6",
   "metadata": {},
   "outputs": [
    {
     "data": {
      "text/html": [
       "<div>\n",
       "<style scoped>\n",
       "    .dataframe tbody tr th:only-of-type {\n",
       "        vertical-align: middle;\n",
       "    }\n",
       "\n",
       "    .dataframe tbody tr th {\n",
       "        vertical-align: top;\n",
       "    }\n",
       "\n",
       "    .dataframe thead th {\n",
       "        text-align: right;\n",
       "    }\n",
       "</style>\n",
       "<table border=\"1\" class=\"dataframe\">\n",
       "  <thead>\n",
       "    <tr style=\"text-align: right;\">\n",
       "      <th></th>\n",
       "      <th>headline</th>\n",
       "      <th>True label</th>\n",
       "      <th>bert</th>\n",
       "      <th>bert prob</th>\n",
       "    </tr>\n",
       "  </thead>\n",
       "  <tbody>\n",
       "    <tr>\n",
       "      <th>0</th>\n",
       "      <td>somali pirates free asian sailors after years ...</td>\n",
       "      <td>0</td>\n",
       "      <td>0</td>\n",
       "      <td>0.478111</td>\n",
       "    </tr>\n",
       "    <tr>\n",
       "      <th>1</th>\n",
       "      <td>coworker has that excuse that is going around</td>\n",
       "      <td>1</td>\n",
       "      <td>1</td>\n",
       "      <td>0.989332</td>\n",
       "    </tr>\n",
       "    <tr>\n",
       "      <th>2</th>\n",
       "      <td>praia de iracema is the place you should have ...</td>\n",
       "      <td>0</td>\n",
       "      <td>0</td>\n",
       "      <td>0.006333</td>\n",
       "    </tr>\n",
       "    <tr>\n",
       "      <th>3</th>\n",
       "      <td>women reveal the real purpose of workout clothes</td>\n",
       "      <td>0</td>\n",
       "      <td>0</td>\n",
       "      <td>0.359706</td>\n",
       "    </tr>\n",
       "    <tr>\n",
       "      <th>4</th>\n",
       "      <td>american politics in moral freefall</td>\n",
       "      <td>0</td>\n",
       "      <td>0</td>\n",
       "      <td>0.020327</td>\n",
       "    </tr>\n",
       "    <tr>\n",
       "      <th>...</th>\n",
       "      <td>...</td>\n",
       "      <td>...</td>\n",
       "      <td>...</td>\n",
       "      <td>...</td>\n",
       "    </tr>\n",
       "    <tr>\n",
       "      <th>2846</th>\n",
       "      <td>republican congressman the best reason to vote...</td>\n",
       "      <td>0</td>\n",
       "      <td>0</td>\n",
       "      <td>0.356458</td>\n",
       "    </tr>\n",
       "    <tr>\n",
       "      <th>2847</th>\n",
       "      <td>walking dead writers regret naming every singl...</td>\n",
       "      <td>1</td>\n",
       "      <td>1</td>\n",
       "      <td>0.985304</td>\n",
       "    </tr>\n",
       "    <tr>\n",
       "      <th>2848</th>\n",
       "      <td>that guy from that one show not looking so hot</td>\n",
       "      <td>1</td>\n",
       "      <td>1</td>\n",
       "      <td>0.983494</td>\n",
       "    </tr>\n",
       "    <tr>\n",
       "      <th>2849</th>\n",
       "      <td>an open letter to caitlyn jenner</td>\n",
       "      <td>0</td>\n",
       "      <td>0</td>\n",
       "      <td>0.002853</td>\n",
       "    </tr>\n",
       "    <tr>\n",
       "      <th>2850</th>\n",
       "      <td>super effective ways to use social media to la...</td>\n",
       "      <td>0</td>\n",
       "      <td>0</td>\n",
       "      <td>0.003308</td>\n",
       "    </tr>\n",
       "  </tbody>\n",
       "</table>\n",
       "<p>2851 rows × 4 columns</p>\n",
       "</div>"
      ],
      "text/plain": [
       "                                               headline  True label  bert  \\\n",
       "0     somali pirates free asian sailors after years ...           0     0   \n",
       "1         coworker has that excuse that is going around           1     1   \n",
       "2     praia de iracema is the place you should have ...           0     0   \n",
       "3      women reveal the real purpose of workout clothes           0     0   \n",
       "4                   american politics in moral freefall           0     0   \n",
       "...                                                 ...         ...   ...   \n",
       "2846  republican congressman the best reason to vote...           0     0   \n",
       "2847  walking dead writers regret naming every singl...           1     1   \n",
       "2848     that guy from that one show not looking so hot           1     1   \n",
       "2849                   an open letter to caitlyn jenner           0     0   \n",
       "2850  super effective ways to use social media to la...           0     0   \n",
       "\n",
       "      bert prob  \n",
       "0      0.478111  \n",
       "1      0.989332  \n",
       "2      0.006333  \n",
       "3      0.359706  \n",
       "4      0.020327  \n",
       "...         ...  \n",
       "2846   0.356458  \n",
       "2847   0.985304  \n",
       "2848   0.983494  \n",
       "2849   0.002853  \n",
       "2850   0.003308  \n",
       "\n",
       "[2851 rows x 4 columns]"
      ]
     },
     "execution_count": 58,
     "metadata": {},
     "output_type": "execute_result"
    }
   ],
   "source": [
    "# Store all test predictions in data frame\n",
    "bertdf_predictions = pd.DataFrame()\n",
    "bertdf_predictions['headline'] = np.array(test_hl).tolist()\n",
    "bertdf_predictions['True label'] = np.array(test_l).tolist()\n",
    "bertdf_predictions['bert'] = np.array([int(p) for p in bert_predictions]).tolist()\n",
    "bertdf_predictions['bert prob'] = pred.flatten().tolist()\n",
    "bertdf_predictions"
   ]
  },
  {
   "cell_type": "code",
   "execution_count": 59,
   "id": "10560b28-af58-49f6-9ed0-fd8a584fbb07",
   "metadata": {},
   "outputs": [],
   "source": [
    "bertdf_predictions.to_csv('bert_predictions.csv', index=True, mode='w')"
   ]
  }
 ],
 "metadata": {
  "kernelspec": {
   "display_name": "Python 3 (ipykernel)",
   "language": "python",
   "name": "python3"
  },
  "language_info": {
   "codemirror_mode": {
    "name": "ipython",
    "version": 3
   },
   "file_extension": ".py",
   "mimetype": "text/x-python",
   "name": "python",
   "nbconvert_exporter": "python",
   "pygments_lexer": "ipython3",
   "version": "3.11.0rc1"
  }
 },
 "nbformat": 4,
 "nbformat_minor": 5
}
