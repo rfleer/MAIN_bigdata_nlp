{
 "cells": [
  {
   "cell_type": "markdown",
   "id": "46a9164b-af79-4c75-a8ab-f27281067b16",
   "metadata": {},
   "source": [
    "# Sarcasm detection - MAIN CAS, modules text analytics and big data, Rita Fleer\n",
    "\n",
    "This script shows a much simpler model based on https://www.kaggle.com/code/ashfakyeafi/sarcasm-detection. Headlines are padded at length 7 already, which means, a lot of information is lost. The model has much nicer loss and accuracy curves but the validation accuracy is much lower."
   ]
  },
  {
   "cell_type": "code",
   "execution_count": 1,
   "id": "ec0719e9-2468-4ac6-9e3d-ed5b71fe9b86",
   "metadata": {},
   "outputs": [
    {
     "name": "stderr",
     "output_type": "stream",
     "text": [
      "[nltk_data] Downloading package stopwords to /root/nltk_data...\n",
      "[nltk_data]   Package stopwords is already up-to-date!\n",
      "2023-12-27 06:59:18.309007: E tensorflow/compiler/xla/stream_executor/cuda/cuda_dnn.cc:9342] Unable to register cuDNN factory: Attempting to register factory for plugin cuDNN when one has already been registered\n",
      "2023-12-27 06:59:18.309040: E tensorflow/compiler/xla/stream_executor/cuda/cuda_fft.cc:609] Unable to register cuFFT factory: Attempting to register factory for plugin cuFFT when one has already been registered\n",
      "2023-12-27 06:59:18.309065: E tensorflow/compiler/xla/stream_executor/cuda/cuda_blas.cc:1518] Unable to register cuBLAS factory: Attempting to register factory for plugin cuBLAS when one has already been registered\n",
      "2023-12-27 06:59:18.315669: I tensorflow/core/platform/cpu_feature_guard.cc:182] This TensorFlow binary is optimized to use available CPU instructions in performance-critical operations.\n",
      "To enable the following instructions: AVX2 FMA, in other operations, rebuild TensorFlow with the appropriate compiler flags.\n"
     ]
    }
   ],
   "source": [
    "import numpy as np # linear algebra\n",
    "import pandas as pd # data processing, CSV file I/O (e.g. pd.read_csv)\n",
    "\n",
    "import seaborn as sns\n",
    "import matplotlib.pyplot as plt\n",
    "from urllib.parse import urlparse\n",
    "from nltk.corpus import stopwords \n",
    "import re\n",
    "import nltk\n",
    "from wordcloud import WordCloud\n",
    "nltk.download(\"stopwords\")\n",
    "from sklearn.model_selection import train_test_split, RandomizedSearchCV, RepeatedStratifiedKFold\n",
    "from sklearn.ensemble import RandomForestClassifier\n",
    "import tensorflow as tf\n",
    "from tensorflow.keras.preprocessing.text import Tokenizer\n",
    "from tensorflow.keras.preprocessing.sequence import pad_sequences\n",
    "from sklearn.metrics import confusion_matrix, accuracy_score, roc_curve, roc_auc_score, recall_score, f1_score\n",
    "from lightgbm import LGBMClassifier\n",
    "from tensorflow.keras.models import Sequential\n",
    "from tensorflow.keras.layers import Dense, GRU, Embedding\n",
    "from tensorflow.keras.optimizers import Adam,SGD,RMSprop\n",
    "import optuna\n",
    "import time\n",
    "\n",
    "import warnings\n",
    "warnings.filterwarnings('ignore')\n",
    "\n"
   ]
  },
  {
   "cell_type": "code",
   "execution_count": 2,
   "id": "826312e9-6057-4140-9d76-613500e77374",
   "metadata": {},
   "outputs": [
    {
     "data": {
      "text/html": [
       "<div>\n",
       "<style scoped>\n",
       "    .dataframe tbody tr th:only-of-type {\n",
       "        vertical-align: middle;\n",
       "    }\n",
       "\n",
       "    .dataframe tbody tr th {\n",
       "        vertical-align: top;\n",
       "    }\n",
       "\n",
       "    .dataframe thead th {\n",
       "        text-align: right;\n",
       "    }\n",
       "</style>\n",
       "<table border=\"1\" class=\"dataframe\">\n",
       "  <thead>\n",
       "    <tr style=\"text-align: right;\">\n",
       "      <th></th>\n",
       "      <th>is_sarcastic</th>\n",
       "      <th>headline</th>\n",
       "    </tr>\n",
       "  </thead>\n",
       "  <tbody>\n",
       "    <tr>\n",
       "      <th>0</th>\n",
       "      <td>1</td>\n",
       "      <td>thirtysomething scientists unveil doomsday clo...</td>\n",
       "    </tr>\n",
       "    <tr>\n",
       "      <th>1</th>\n",
       "      <td>0</td>\n",
       "      <td>dem rep. totally nails why congress is falling...</td>\n",
       "    </tr>\n",
       "    <tr>\n",
       "      <th>2</th>\n",
       "      <td>0</td>\n",
       "      <td>eat your veggies: 9 deliciously different recipes</td>\n",
       "    </tr>\n",
       "    <tr>\n",
       "      <th>3</th>\n",
       "      <td>1</td>\n",
       "      <td>inclement weather prevents liar from getting t...</td>\n",
       "    </tr>\n",
       "    <tr>\n",
       "      <th>4</th>\n",
       "      <td>1</td>\n",
       "      <td>mother comes pretty close to using word 'strea...</td>\n",
       "    </tr>\n",
       "  </tbody>\n",
       "</table>\n",
       "</div>"
      ],
      "text/plain": [
       "   is_sarcastic                                           headline\n",
       "0             1  thirtysomething scientists unveil doomsday clo...\n",
       "1             0  dem rep. totally nails why congress is falling...\n",
       "2             0  eat your veggies: 9 deliciously different recipes\n",
       "3             1  inclement weather prevents liar from getting t...\n",
       "4             1  mother comes pretty close to using word 'strea..."
      ]
     },
     "execution_count": 2,
     "metadata": {},
     "output_type": "execute_result"
    }
   ],
   "source": [
    "data = pd.read_json(\"data/Sarcasm_Headlines_Dataset_v2.json\", lines=True)\n",
    "del data['article_link'] # Deleting this column as it is of no use\n",
    "\n",
    "\n",
    "data.head()"
   ]
  },
  {
   "cell_type": "code",
   "execution_count": 3,
   "id": "d9289bec-cafe-47ba-928d-ed7642922bab",
   "metadata": {},
   "outputs": [
    {
     "name": "stdout",
     "output_type": "stream",
     "text": [
      "38234 287620\n"
     ]
    }
   ],
   "source": [
    "\n",
    "\n",
    "def find_num_words(data):\n",
    "    wordlist = []\n",
    "    splitting_list = data.str.split()\n",
    "    for i in range(len(splitting_list)):\n",
    "        for j in range(len(splitting_list[i])):\n",
    "            wordlist.append(splitting_list[i][j])\n",
    "            \n",
    "    wordset = set(wordlist)\n",
    "    \n",
    "    print(len(wordset),len(wordlist))\n",
    "\n",
    "find_num_words(data.headline)\n",
    "\n"
   ]
  },
  {
   "cell_type": "code",
   "execution_count": 4,
   "id": "423902e7-8d1f-418c-a74c-671d13ef1f3e",
   "metadata": {},
   "outputs": [],
   "source": [
    "#Removing punctiation marks\n",
    "def remove_punctuations(text):\n",
    "    return re.sub('\\[[^]]*\\]', '', text)\n",
    "\n",
    "#Removing special characters\n",
    "def remove_specialchars(text):\n",
    "    return re.sub(\"[^a-zA-Z]\",\" \",text)\n",
    "\n",
    "#Removal of stopwords and lemmatization\n",
    "def remove_stopwords_and_lemmatization(text):\n",
    "    final_text = []\n",
    "    text = text.lower()\n",
    "    text = nltk.word_tokenize(text)\n",
    "    \n",
    "    for word in text:\n",
    "        if word not in set(stopwords.words('english')):\n",
    "            lemma = nltk.WordNetLemmatizer()\n",
    "            word = lemma.lemmatize(word) \n",
    "            final_text.append(word)\n",
    "    return \" \".join(final_text)\n",
    "\n",
    "\n",
    "#Total function\n",
    "def cleaning(text):\n",
    "    text = remove_punctuations(text)\n",
    "    text = remove_specialchars(text)\n",
    "    text = remove_stopwords_and_lemmatization(text)\n",
    "    return text\n",
    "\n",
    "data['headline']=data['headline'].apply(cleaning)"
   ]
  },
  {
   "cell_type": "code",
   "execution_count": 5,
   "id": "2e66e36c-f18c-4500-8193-def5408121a6",
   "metadata": {},
   "outputs": [],
   "source": [
    "sentences = data[\"headline\"].values.tolist()\n",
    "target = data[\"is_sarcastic\"].values.tolist()"
   ]
  },
  {
   "cell_type": "code",
   "execution_count": 6,
   "id": "16cc6185-87b7-4bb6-ab03-e883f9b5de15",
   "metadata": {},
   "outputs": [
    {
     "name": "stdout",
     "output_type": "stream",
     "text": [
      "Tokens'mean 3.7437017366085468\n",
      "Max 31\n",
      "Argmax 7302\n"
     ]
    }
   ],
   "source": [
    "\n",
    "\n",
    "num_words = 1000\n",
    "tokenizer = Tokenizer(num_words=num_words)\n",
    "\n",
    "tokenizer.fit_on_texts(sentences)\n",
    "tokens = tokenizer.texts_to_sequences(sentences)\n",
    "\n",
    "numTokens = [len(token) for token in tokens]\n",
    "numTokens = np.array(numTokens)\n",
    "print(\"Tokens'mean\",np.mean(numTokens))\n",
    "print(\"Max\", np.max(numTokens))\n",
    "print(\"Argmax\", np.argmax(numTokens))\n",
    "\n"
   ]
  },
  {
   "cell_type": "code",
   "execution_count": 7,
   "id": "908158d0-0d57-4815-bdf8-63e83638d8c1",
   "metadata": {},
   "outputs": [
    {
     "name": "stdout",
     "output_type": "stream",
     "text": [
      "Calculated maximum number of tokens : 7\n",
      "What percentage of the data fits this average? : 0.9099898668716587\n"
     ]
    }
   ],
   "source": [
    "max_tokens = int(np.mean(numTokens) + 2*np.std(numTokens))\n",
    "print(\"Calculated maximum number of tokens :\",max_tokens)\n",
    "print(\"What percentage of the data fits this average? :\",np.sum(numTokens < max_tokens) / len(numTokens))"
   ]
  },
  {
   "cell_type": "code",
   "execution_count": 8,
   "id": "62d79cee-6380-4778-8362-b13a732aa51d",
   "metadata": {},
   "outputs": [
    {
     "name": "stdout",
     "output_type": "stream",
     "text": [
      "(28619, 7)\n",
      "28619\n"
     ]
    }
   ],
   "source": [
    "\n",
    "\n",
    "padding_data = pad_sequences(tokens, maxlen=max_tokens)\n",
    "print(padding_data.shape)\n",
    "print(len(target))\n",
    "\n"
   ]
  },
  {
   "cell_type": "code",
   "execution_count": 9,
   "id": "e83f40ff-5a15-449d-91e3-0fcc145b57e0",
   "metadata": {},
   "outputs": [],
   "source": [
    "X_train, X_test, y_train, y_test = train_test_split(padding_data, data.is_sarcastic, random_state=1, test_size=0.15, stratify=data.is_sarcastic)\n",
    "X_train, X_val, y_train, y_val = train_test_split(X_train, y_train, random_state=1, test_size=0.1, stratify=y_train)"
   ]
  },
  {
   "cell_type": "code",
   "execution_count": 10,
   "id": "af87b5fd-b534-4304-a510-2400764a783d",
   "metadata": {},
   "outputs": [
    {
     "name": "stderr",
     "output_type": "stream",
     "text": [
      "2023-12-27 07:00:02.972912: I tensorflow/compiler/xla/stream_executor/cuda/cuda_gpu_executor.cc:894] successful NUMA node read from SysFS had negative value (-1), but there must be at least one NUMA node, so returning NUMA node zero. See more at https://github.com/torvalds/linux/blob/v6.0/Documentation/ABI/testing/sysfs-bus-pci#L344-L355\n",
      "2023-12-27 07:00:02.979736: I tensorflow/compiler/xla/stream_executor/cuda/cuda_gpu_executor.cc:894] successful NUMA node read from SysFS had negative value (-1), but there must be at least one NUMA node, so returning NUMA node zero. See more at https://github.com/torvalds/linux/blob/v6.0/Documentation/ABI/testing/sysfs-bus-pci#L344-L355\n",
      "2023-12-27 07:00:02.980079: I tensorflow/compiler/xla/stream_executor/cuda/cuda_gpu_executor.cc:894] successful NUMA node read from SysFS had negative value (-1), but there must be at least one NUMA node, so returning NUMA node zero. See more at https://github.com/torvalds/linux/blob/v6.0/Documentation/ABI/testing/sysfs-bus-pci#L344-L355\n",
      "2023-12-27 07:00:02.981651: I tensorflow/compiler/xla/stream_executor/cuda/cuda_gpu_executor.cc:894] successful NUMA node read from SysFS had negative value (-1), but there must be at least one NUMA node, so returning NUMA node zero. See more at https://github.com/torvalds/linux/blob/v6.0/Documentation/ABI/testing/sysfs-bus-pci#L344-L355\n",
      "2023-12-27 07:00:02.981970: I tensorflow/compiler/xla/stream_executor/cuda/cuda_gpu_executor.cc:894] successful NUMA node read from SysFS had negative value (-1), but there must be at least one NUMA node, so returning NUMA node zero. See more at https://github.com/torvalds/linux/blob/v6.0/Documentation/ABI/testing/sysfs-bus-pci#L344-L355\n",
      "2023-12-27 07:00:02.982235: I tensorflow/compiler/xla/stream_executor/cuda/cuda_gpu_executor.cc:894] successful NUMA node read from SysFS had negative value (-1), but there must be at least one NUMA node, so returning NUMA node zero. See more at https://github.com/torvalds/linux/blob/v6.0/Documentation/ABI/testing/sysfs-bus-pci#L344-L355\n",
      "2023-12-27 07:00:03.089887: I tensorflow/compiler/xla/stream_executor/cuda/cuda_gpu_executor.cc:894] successful NUMA node read from SysFS had negative value (-1), but there must be at least one NUMA node, so returning NUMA node zero. See more at https://github.com/torvalds/linux/blob/v6.0/Documentation/ABI/testing/sysfs-bus-pci#L344-L355\n",
      "2023-12-27 07:00:03.090167: I tensorflow/compiler/xla/stream_executor/cuda/cuda_gpu_executor.cc:894] successful NUMA node read from SysFS had negative value (-1), but there must be at least one NUMA node, so returning NUMA node zero. See more at https://github.com/torvalds/linux/blob/v6.0/Documentation/ABI/testing/sysfs-bus-pci#L344-L355\n",
      "2023-12-27 07:00:03.090351: I tensorflow/compiler/xla/stream_executor/cuda/cuda_gpu_executor.cc:894] successful NUMA node read from SysFS had negative value (-1), but there must be at least one NUMA node, so returning NUMA node zero. See more at https://github.com/torvalds/linux/blob/v6.0/Documentation/ABI/testing/sysfs-bus-pci#L344-L355\n",
      "2023-12-27 07:00:03.090498: I tensorflow/core/common_runtime/gpu/gpu_device.cc:1886] Created device /job:localhost/replica:0/task:0/device:GPU:0 with 125 MB memory:  -> device: 0, name: NVIDIA GeForce RTX 2070 SUPER, pci bus id: 0000:0a:00.0, compute capability: 7.5\n"
     ]
    },
    {
     "name": "stdout",
     "output_type": "stream",
     "text": [
      "Model: \"sequential\"\n",
      "_________________________________________________________________\n",
      " Layer (type)                Output Shape              Param #   \n",
      "=================================================================\n",
      " embedding_layer (Embedding  (None, 7, 40)             40000     \n",
      " )                                                               \n",
      "                                                                 \n",
      " gru (GRU)                   (None, 7, 128)            65280     \n",
      "                                                                 \n",
      " gru_1 (GRU)                 (None, 7, 64)             37248     \n",
      "                                                                 \n",
      " gru_2 (GRU)                 (None, 32)                9408      \n",
      "                                                                 \n",
      " dense (Dense)               (None, 1)                 33        \n",
      "                                                                 \n",
      "=================================================================\n",
      "Total params: 151969 (593.63 KB)\n",
      "Trainable params: 151969 (593.63 KB)\n",
      "Non-trainable params: 0 (0.00 Byte)\n",
      "_________________________________________________________________\n"
     ]
    }
   ],
   "source": [
    "EMBEDDING_SIZE = 40\n",
    "\n",
    "model = Sequential()\n",
    "model.add(Embedding(input_dim = num_words,\n",
    "                    output_dim=EMBEDDING_SIZE,\n",
    "                    input_length=max_tokens,\n",
    "                    name='embedding_layer'))\n",
    "model.add(GRU(units=128, return_sequences=True, kernel_regularizer = tf.keras.regularizers.l2(l=1.367675698620851e-05)))\n",
    "model.add(GRU(units=64,return_sequences=True, kernel_regularizer = tf.keras.regularizers.l2(l=1.367675698620851e-05)))\n",
    "model.add(GRU(units=32))\n",
    "#model.add(Dense(16, activation=\"relu\"))\n",
    "model.add(Dense(1, activation='sigmoid'))\n",
    "\n",
    "model.summary()"
   ]
  },
  {
   "cell_type": "code",
   "execution_count": 11,
   "id": "c8d7b2a5-f381-47d6-9bf8-0ed80f7c78f9",
   "metadata": {},
   "outputs": [
    {
     "name": "stdout",
     "output_type": "stream",
     "text": [
      "Epoch 1/30\n"
     ]
    },
    {
     "name": "stderr",
     "output_type": "stream",
     "text": [
      "2023-12-27 07:00:12.400942: I tensorflow/compiler/xla/stream_executor/cuda/cuda_dnn.cc:442] Loaded cuDNN version 8600\n",
      "2023-12-27 07:00:12.836064: I tensorflow/compiler/xla/service/service.cc:168] XLA service 0x7f767c57ae40 initialized for platform CUDA (this does not guarantee that XLA will be used). Devices:\n",
      "2023-12-27 07:00:12.836098: I tensorflow/compiler/xla/service/service.cc:176]   StreamExecutor device (0): NVIDIA GeForce RTX 2070 SUPER, Compute Capability 7.5\n",
      "2023-12-27 07:00:12.841041: I tensorflow/compiler/mlir/tensorflow/utils/dump_mlir_util.cc:269] disabling MLIR crash reproducer, set env var `MLIR_CRASH_REPRODUCER_DIRECTORY` to enable.\n",
      "2023-12-27 07:00:12.907677: I ./tensorflow/compiler/jit/device_compiler.h:186] Compiled cluster using XLA!  This line is logged at most once for the lifetime of the process.\n"
     ]
    },
    {
     "name": "stdout",
     "output_type": "stream",
     "text": [
      "548/548 [==============================] - 11s 15ms/step - loss: 0.6937 - accuracy: 0.5238 - val_loss: 0.6895 - val_accuracy: 0.5816\n",
      "Epoch 2/30\n",
      "548/548 [==============================] - 3s 6ms/step - loss: 0.6609 - accuracy: 0.6210 - val_loss: 0.6079 - val_accuracy: 0.6658\n",
      "Epoch 3/30\n",
      "548/548 [==============================] - 3s 6ms/step - loss: 0.5753 - accuracy: 0.6950 - val_loss: 0.5642 - val_accuracy: 0.7028\n",
      "Epoch 4/30\n",
      "548/548 [==============================] - 3s 6ms/step - loss: 0.5391 - accuracy: 0.7240 - val_loss: 0.5384 - val_accuracy: 0.7213\n",
      "Epoch 5/30\n",
      "548/548 [==============================] - 3s 6ms/step - loss: 0.5207 - accuracy: 0.7343 - val_loss: 0.5323 - val_accuracy: 0.7308\n",
      "Epoch 6/30\n",
      "548/548 [==============================] - 3s 6ms/step - loss: 0.5115 - accuracy: 0.7405 - val_loss: 0.5317 - val_accuracy: 0.7283\n",
      "Epoch 7/30\n",
      "548/548 [==============================] - 3s 6ms/step - loss: 0.5061 - accuracy: 0.7447 - val_loss: 0.5259 - val_accuracy: 0.7312\n",
      "Epoch 8/30\n",
      "548/548 [==============================] - 3s 6ms/step - loss: 0.5018 - accuracy: 0.7488 - val_loss: 0.5249 - val_accuracy: 0.7308\n",
      "Epoch 9/30\n",
      "548/548 [==============================] - 3s 6ms/step - loss: 0.4986 - accuracy: 0.7515 - val_loss: 0.5246 - val_accuracy: 0.7365\n",
      "Epoch 10/30\n",
      "548/548 [==============================] - 3s 6ms/step - loss: 0.4964 - accuracy: 0.7534 - val_loss: 0.5224 - val_accuracy: 0.7328\n",
      "Epoch 11/30\n",
      "548/548 [==============================] - 3s 6ms/step - loss: 0.4947 - accuracy: 0.7541 - val_loss: 0.5236 - val_accuracy: 0.7353\n",
      "Epoch 12/30\n",
      "548/548 [==============================] - 3s 6ms/step - loss: 0.4926 - accuracy: 0.7575 - val_loss: 0.5237 - val_accuracy: 0.7341\n",
      "Epoch 13/30\n",
      "548/548 [==============================] - 3s 6ms/step - loss: 0.4911 - accuracy: 0.7556 - val_loss: 0.5200 - val_accuracy: 0.7357\n",
      "Epoch 14/30\n",
      "548/548 [==============================] - 3s 6ms/step - loss: 0.4898 - accuracy: 0.7588 - val_loss: 0.5185 - val_accuracy: 0.7370\n",
      "Epoch 15/30\n",
      "548/548 [==============================] - 3s 6ms/step - loss: 0.4885 - accuracy: 0.7583 - val_loss: 0.5199 - val_accuracy: 0.7378\n",
      "Epoch 16/30\n",
      "548/548 [==============================] - 3s 6ms/step - loss: 0.4871 - accuracy: 0.7594 - val_loss: 0.5186 - val_accuracy: 0.7394\n",
      "Epoch 17/30\n",
      "548/548 [==============================] - 3s 6ms/step - loss: 0.4861 - accuracy: 0.7606 - val_loss: 0.5240 - val_accuracy: 0.7324\n",
      "Epoch 18/30\n",
      "548/548 [==============================] - 3s 6ms/step - loss: 0.4850 - accuracy: 0.7600 - val_loss: 0.5175 - val_accuracy: 0.7357\n",
      "Epoch 19/30\n",
      "548/548 [==============================] - 3s 6ms/step - loss: 0.4837 - accuracy: 0.7622 - val_loss: 0.5176 - val_accuracy: 0.7361\n",
      "Epoch 20/30\n",
      "548/548 [==============================] - 3s 6ms/step - loss: 0.4820 - accuracy: 0.7634 - val_loss: 0.5204 - val_accuracy: 0.7357\n",
      "Epoch 21/30\n",
      "548/548 [==============================] - 3s 6ms/step - loss: 0.4809 - accuracy: 0.7628 - val_loss: 0.5171 - val_accuracy: 0.7402\n",
      "Epoch 22/30\n",
      "548/548 [==============================] - 3s 6ms/step - loss: 0.4792 - accuracy: 0.7662 - val_loss: 0.5155 - val_accuracy: 0.7398\n",
      "Epoch 23/30\n",
      "548/548 [==============================] - 3s 6ms/step - loss: 0.4774 - accuracy: 0.7649 - val_loss: 0.5167 - val_accuracy: 0.7333\n",
      "Epoch 24/30\n",
      "548/548 [==============================] - 3s 6ms/step - loss: 0.4758 - accuracy: 0.7662 - val_loss: 0.5171 - val_accuracy: 0.7386\n",
      "Epoch 25/30\n",
      "548/548 [==============================] - 3s 6ms/step - loss: 0.4739 - accuracy: 0.7679 - val_loss: 0.5179 - val_accuracy: 0.7382\n",
      "Epoch 26/30\n",
      "548/548 [==============================] - 3s 6ms/step - loss: 0.4722 - accuracy: 0.7684 - val_loss: 0.5177 - val_accuracy: 0.7415\n",
      "Epoch 27/30\n",
      "548/548 [==============================] - 3s 6ms/step - loss: 0.4705 - accuracy: 0.7710 - val_loss: 0.5188 - val_accuracy: 0.7415\n",
      "Epoch 28/30\n",
      "548/548 [==============================] - 3s 6ms/step - loss: 0.4692 - accuracy: 0.7719 - val_loss: 0.5171 - val_accuracy: 0.7386\n",
      "Epoch 29/30\n",
      "548/548 [==============================] - 3s 6ms/step - loss: 0.4681 - accuracy: 0.7734 - val_loss: 0.5215 - val_accuracy: 0.7394\n",
      "Epoch 30/30\n",
      "548/548 [==============================] - 3s 6ms/step - loss: 0.4667 - accuracy: 0.7754 - val_loss: 0.5185 - val_accuracy: 0.7345\n"
     ]
    }
   ],
   "source": [
    "\n",
    "\n",
    "model.compile(loss=\"binary_crossentropy\", optimizer = RMSprop(learning_rate=8.74355057651944e-05), metrics=[\"accuracy\"])\n",
    "history = model.fit(X_train, y_train, validation_data=(X_val, y_val), epochs=30, batch_size=40)\n",
    "\n"
   ]
  },
  {
   "cell_type": "code",
   "execution_count": 12,
   "id": "c7a721bb-994a-4735-b276-3ff596e98137",
   "metadata": {},
   "outputs": [
    {
     "data": {
      "image/png": "[encoded data removed]",
      "text/plain": [
       "<Figure size 640x480 with 1 Axes>"
      ]
     },
     "metadata": {},
     "output_type": "display_data"
    },
    {
     "data": {
      "image/png": "[encoded data removed]",
      "text/plain": [
       "<Figure size 640x480 with 1 Axes>"
      ]
     },
     "metadata": {},
     "output_type": "display_data"
    }
   ],
   "source": [
    "\n",
    "\n",
    "import matplotlib.pyplot as plt\n",
    "\n",
    "\n",
    "def plot_graphs(history, string):\n",
    "    plt.plot(history.history[string])\n",
    "    plt.plot(history.history['val_'+string])\n",
    "    plt.xlabel(\"Epochs\")\n",
    "    plt.ylabel(string)\n",
    "    plt.legend([string, 'val_'+string])\n",
    "    plt.show()\n",
    "\n",
    "plot_graphs(history, 'accuracy')\n",
    "plot_graphs(history, 'loss')\n",
    "\n"
   ]
  },
  {
   "cell_type": "code",
   "execution_count": null,
   "id": "3a744762-bc5d-4565-bc14-e98c98afce71",
   "metadata": {},
   "outputs": [],
   "source": []
  }
 ],
 "metadata": {
  "kernelspec": {
   "display_name": "Python 3 (ipykernel)",
   "language": "python",
   "name": "python3"
  },
  "language_info": {
   "codemirror_mode": {
    "name": "ipython",
    "version": 3
   },
   "file_extension": ".py",
   "mimetype": "text/x-python",
   "name": "python",
   "nbconvert_exporter": "python",
   "pygments_lexer": "ipython3",
   "version": "3.11.0rc1"
  }
 },
 "nbformat": 4,
 "nbformat_minor": 5
}
