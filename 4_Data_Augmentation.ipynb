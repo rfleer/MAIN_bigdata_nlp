{
 "cells": [
  {
   "attachments": {},
   "cell_type": "markdown",
   "id": "5bca8ba1-56c7-4d26-b34b-30079e0fa79b",
   "metadata": {},
   "source": [
    "# Sarcasm detection - MAIN CAS, modules text analytics and big data, Rita Fleer\n",
    "\n",
    "Main sources:<br />\n",
    "https://www.analyticsvidhya.com/blog/2022/02/text-data-augmentation-in-natural-language-processing-with-texattack/<br />\n",
    "https://medium.com/codex/hands-on-data-augmentation-in-nlp-using-nlpaug-python-library-ad323c22908<br />\n",
    "\n",
    "\n",
    "Installations:<br />\n",
    "!pip install nlpaug<br />\n",
    "!pip install textattack<br />"
   ]
  },
  {
   "cell_type": "code",
   "execution_count": 3,
   "id": "9cf21892-f7c8-409f-9aa9-f02dc4e25dee",
   "metadata": {},
   "outputs": [
    {
     "name": "stderr",
     "output_type": "stream",
     "text": [
      "[nltk_data] Downloading package wordnet to /root/nltk_data...\n",
      "[nltk_data]   Package wordnet is already up-to-date!\n",
      "[nltk_data] Downloading package punkt to /root/nltk_data...\n",
      "[nltk_data]   Package punkt is already up-to-date!\n",
      "[nltk_data] Downloading package stopwords to /root/nltk_data...\n",
      "[nltk_data]   Package stopwords is already up-to-date!\n",
      "2024-01-01 11:30:42.473657: E tensorflow/compiler/xla/stream_executor/cuda/cuda_dnn.cc:9342] Unable to register cuDNN factory: Attempting to register factory for plugin cuDNN when one has already been registered\n",
      "2024-01-01 11:30:42.473703: E tensorflow/compiler/xla/stream_executor/cuda/cuda_fft.cc:609] Unable to register cuFFT factory: Attempting to register factory for plugin cuFFT when one has already been registered\n",
      "2024-01-01 11:30:42.473765: E tensorflow/compiler/xla/stream_executor/cuda/cuda_blas.cc:1518] Unable to register cuBLAS factory: Attempting to register factory for plugin cuBLAS when one has already been registered\n",
      "2024-01-01 11:30:42.614838: I tensorflow/core/platform/cpu_feature_guard.cc:182] This TensorFlow binary is optimized to use available CPU instructions in performance-critical operations.\n",
      "To enable the following instructions: AVX2 FMA, in other operations, rebuild TensorFlow with the appropriate compiler flags.\n"
     ]
    }
   ],
   "source": [
    "import pandas as pd\n",
    "import numpy as np\n",
    "import seaborn as sns\n",
    "import matplotlib.pyplot as plt\n",
    "import json\n",
    "\n",
    "import contractions\n",
    "from bs4 import BeautifulSoup\n",
    "import re\n",
    "import tqdm\n",
    "import unicodedata\n",
    "\n",
    "from sklearn import model_selection, preprocessing, linear_model, metrics\n",
    "from sklearn.feature_extraction.text import TfidfVectorizer, CountVectorizer\n",
    "from sklearn.linear_model import LogisticRegression\n",
    "\n",
    "from sklearn import ensemble\n",
    "from lightgbm import LGBMClassifier\n",
    "from sklearn.metrics import roc_auc_score, roc_curve\n",
    "from wordcloud import WordCloud, STOPWORDS, ImageColorGenerator\n",
    "from termcolor import colored\n",
    "\n",
    "#from sklearn.metrics import plot_confusion_matrix\n",
    "from sklearn.metrics import confusion_matrix, accuracy_score, classification_report\n",
    "\n",
    "import nltk\n",
    "\n",
    "from nltk.corpus import stopwords\n",
    "from textblob import Word\n",
    "nltk.download('wordnet')\n",
    "from nltk.tokenize import word_tokenize\n",
    "nltk.download('punkt')\n",
    "nltk.download('stopwords')\n",
    "\n",
    "import re\n",
    "\n",
    "import tensorflow as tf\n",
    "import tensorflow_hub as hub\n",
    "import transformers\n",
    "from tensorflow.keras.utils import to_categorical\n",
    "from sklearn.model_selection import train_test_split\n",
    "from tensorflow.keras.preprocessing import sequence\n",
    "from tensorflow.keras.preprocessing.text import Tokenizer\n",
    "from tensorflow.keras.layers import Dense,Dropout,Embedding,LSTM, GRU\n",
    "from tensorflow.keras.callbacks import EarlyStopping\n",
    "from tensorflow.keras.losses import categorical_crossentropy\n",
    "from tensorflow.keras.optimizers import Adam\n",
    "from tensorflow.keras.models import Sequential\n",
    "from keras.callbacks import EarlyStopping,ReduceLROnPlateau\n",
    "\n",
    "\n",
    "from warnings import filterwarnings\n",
    "filterwarnings('ignore')\n",
    "\n",
    "from sklearn import set_config\n",
    "set_config(print_changed_only = False)\n",
    "\n",
    "import string\n",
    "from multiprocessing import Pool\n",
    "import time\n",
    "\n",
    "import optuna\n",
    "from optuna.trial import TrialState\n",
    "from sklearn.metrics import accuracy_score\n",
    "import plotly\n",
    "\n",
    "from nltk.stem import WordNetLemmatizer\n",
    "from fuzzywuzzy import fuzz\n",
    "from deep_translator import GoogleTranslator\n",
    "import nlpaug.augmenter.word as naw\n",
    "import random\n",
    "from textattack.augmentation import EasyDataAugmenter\n"
   ]
  },
  {
   "cell_type": "markdown",
   "id": "0933c837-0bed-4765-9652-842dca3d4e51",
   "metadata": {},
   "source": [
    "# 1) Load and Clean data\n",
    "\n",
    "Same as in main file\n"
   ]
  },
  {
   "cell_type": "code",
   "execution_count": 195,
   "id": "4c3dc910-bea2-43a3-b16f-3f17ce7f8bae",
   "metadata": {},
   "outputs": [
    {
     "data": {
      "text/html": [
       "<div>\n",
       "<style scoped>\n",
       "    .dataframe tbody tr th:only-of-type {\n",
       "        vertical-align: middle;\n",
       "    }\n",
       "\n",
       "    .dataframe tbody tr th {\n",
       "        vertical-align: top;\n",
       "    }\n",
       "\n",
       "    .dataframe thead th {\n",
       "        text-align: right;\n",
       "    }\n",
       "</style>\n",
       "<table border=\"1\" class=\"dataframe\">\n",
       "  <thead>\n",
       "    <tr style=\"text-align: right;\">\n",
       "      <th></th>\n",
       "      <th>is_sarcastic</th>\n",
       "      <th>headline</th>\n",
       "    </tr>\n",
       "  </thead>\n",
       "  <tbody>\n",
       "    <tr>\n",
       "      <th>0</th>\n",
       "      <td>1</td>\n",
       "      <td>thirtysomething scientists unveil doomsday clo...</td>\n",
       "    </tr>\n",
       "    <tr>\n",
       "      <th>1</th>\n",
       "      <td>0</td>\n",
       "      <td>dem rep. totally nails why congress is falling...</td>\n",
       "    </tr>\n",
       "    <tr>\n",
       "      <th>2</th>\n",
       "      <td>0</td>\n",
       "      <td>eat your veggies: 9 deliciously different recipes</td>\n",
       "    </tr>\n",
       "    <tr>\n",
       "      <th>3</th>\n",
       "      <td>1</td>\n",
       "      <td>inclement weather prevents liar from getting t...</td>\n",
       "    </tr>\n",
       "    <tr>\n",
       "      <th>4</th>\n",
       "      <td>1</td>\n",
       "      <td>mother comes pretty close to using word 'strea...</td>\n",
       "    </tr>\n",
       "  </tbody>\n",
       "</table>\n",
       "</div>"
      ],
      "text/plain": [
       "   is_sarcastic                                           headline\n",
       "0             1  thirtysomething scientists unveil doomsday clo...\n",
       "1             0  dem rep. totally nails why congress is falling...\n",
       "2             0  eat your veggies: 9 deliciously different recipes\n",
       "3             1  inclement weather prevents liar from getting t...\n",
       "4             1  mother comes pretty close to using word 'strea..."
      ]
     },
     "execution_count": 195,
     "metadata": {},
     "output_type": "execute_result"
    }
   ],
   "source": [
    "df = pd.read_json(\"data/Sarcasm_Headlines_Dataset_v2.json\", lines=True)\n",
    "del df['article_link'] # Deleting this column as it is of no use\n",
    "\n",
    "\n",
    "df.head()"
   ]
  },
  {
   "cell_type": "code",
   "execution_count": 196,
   "id": "58f7d0df-2666-4e31-82d2-14018dd9a9a0",
   "metadata": {},
   "outputs": [
    {
     "data": {
      "text/plain": [
       "116"
      ]
     },
     "execution_count": 196,
     "metadata": {},
     "output_type": "execute_result"
    }
   ],
   "source": [
    "df.duplicated().sum()"
   ]
  },
  {
   "cell_type": "code",
   "execution_count": 197,
   "id": "a81e85bd-f34b-4d2b-9d52-e7d02574c8bc",
   "metadata": {},
   "outputs": [],
   "source": [
    "df.drop_duplicates(inplace = True)"
   ]
  },
  {
   "cell_type": "code",
   "execution_count": 198,
   "id": "a0458032-6571-4790-ac4f-e787fb58fb67",
   "metadata": {},
   "outputs": [
    {
     "data": {
      "text/html": [
       "<style type=\"text/css\">\n",
       "#T_c16e7_row0_col0 {\n",
       "  background-color: #ffff00;\n",
       "  color: #000000;\n",
       "}\n",
       "#T_c16e7_row1_col0 {\n",
       "  background-color: #ff0000;\n",
       "  color: #f1f1f1;\n",
       "}\n",
       "</style>\n",
       "<table id=\"T_c16e7\">\n",
       "  <thead>\n",
       "    <tr>\n",
       "      <th class=\"blank level0\" >&nbsp;</th>\n",
       "      <th id=\"T_c16e7_level0_col0\" class=\"col_heading level0 col0\" >headline</th>\n",
       "    </tr>\n",
       "    <tr>\n",
       "      <th class=\"index_name level0\" >is_sarcastic</th>\n",
       "      <th class=\"blank col0\" >&nbsp;</th>\n",
       "    </tr>\n",
       "  </thead>\n",
       "  <tbody>\n",
       "    <tr>\n",
       "      <th id=\"T_c16e7_level0_row0\" class=\"row_heading level0 row0\" >0</th>\n",
       "      <td id=\"T_c16e7_row0_col0\" class=\"data row0 col0\" >14951</td>\n",
       "    </tr>\n",
       "    <tr>\n",
       "      <th id=\"T_c16e7_level0_row1\" class=\"row_heading level0 row1\" >1</th>\n",
       "      <td id=\"T_c16e7_row1_col0\" class=\"data row1 col0\" >13552</td>\n",
       "    </tr>\n",
       "  </tbody>\n",
       "</table>\n"
      ],
      "text/plain": [
       "<pandas.io.formats.style.Styler at 0x7fc0a3a29410>"
      ]
     },
     "execution_count": 198,
     "metadata": {},
     "output_type": "execute_result"
    }
   ],
   "source": [
    "df.groupby(\"is_sarcastic\").count().style.background_gradient(cmap = \"autumn\")"
   ]
  },
  {
   "cell_type": "code",
   "execution_count": 199,
   "id": "e1fdab82-aeaa-46a5-a48a-fbaab618fad1",
   "metadata": {},
   "outputs": [
    {
     "data": {
      "text/plain": [
       "(23086, 2566, 2851)"
      ]
     },
     "execution_count": 199,
     "metadata": {},
     "output_type": "execute_result"
    }
   ],
   "source": [
    "headlines = df[\"headline\"]\n",
    "labels = df[\"is_sarcastic\"]\n",
    "\n",
    "train_hl, test_hl, train_l, test_l = model_selection.train_test_split(headlines, labels,\n",
    "                                                                    test_size = 0.10,\n",
    "                                                                    shuffle = True,\n",
    "                                                                    random_state = 1)\n",
    "\n",
    "train_hl, val_hl, train_l, val_l = model_selection.train_test_split(train_hl, train_l,\n",
    "                                                                    test_size = 0.10,\n",
    "                                                                    shuffle = True,\n",
    "                                                                    random_state = 1)\n",
    "\n",
    "len(train_hl), len(val_hl), len(test_hl)"
   ]
  },
  {
   "cell_type": "markdown",
   "id": "aa3e8cce-049f-4d00-a21e-1e9066410b1e",
   "metadata": {},
   "source": [
    "# 2) Data Augmentation"
   ]
  },
  {
   "cell_type": "markdown",
   "id": "06be2266-e5e9-48f1-b254-94b9462ce362",
   "metadata": {},
   "source": [
    "## 2a) Back translation\n",
    "\n",
    "tried translators: googletrans, translate, google_trans_new, deep-translator"
   ]
  },
  {
   "cell_type": "code",
   "execution_count": 211,
   "id": "b8fc4c6c-15e5-4058-bfa8-98eb6f873d8f",
   "metadata": {},
   "outputs": [],
   "source": [
    "from deep_translator import GoogleTranslator"
   ]
  },
  {
   "cell_type": "code",
   "execution_count": 216,
   "id": "0827583e-99b0-4cee-a4ac-7fe046b0c767",
   "metadata": {},
   "outputs": [
    {
     "name": "stdout",
     "output_type": "stream",
     "text": [
      "original:  study finds american diets are poor (but improving!)\n",
      "translation:  Studie zeigt, dass die amerikanische Ernährung schlecht ist (aber sich verbessert!)\n",
      "back-transltaion:  Study Shows American Diet Is Bad (But Is Getting Better!)\n"
     ]
    }
   ],
   "source": [
    "#example\n",
    "translation = GoogleTranslator(source='en', target='de').translate(train_hl[101]) \n",
    "backtranslation = GoogleTranslator(source='de', target='en').translate(translation)\n",
    "\n",
    "print('original: ', train_hl[101])\n",
    "print('translation: ', translation)\n",
    "print('back-transltaion: ', backtranslation) "
   ]
  },
  {
   "cell_type": "code",
   "execution_count": 213,
   "id": "1db5106d-e7af-49e4-ab05-cc61de9ca35f",
   "metadata": {},
   "outputs": [],
   "source": [
    "def back_translate_de_en(doc):\n",
    "    translation = GoogleTranslator(source='en', target='de').translate(doc) \n",
    "    backtranslation = GoogleTranslator(source='de', target='en').translate(translation).lower()\n",
    "\n",
    "    if backtranslation != doc:\n",
    "        return backtranslation\n",
    "    else:\n",
    "        pass"
   ]
  },
  {
   "cell_type": "code",
   "execution_count": 192,
   "id": "ec864eff-bc5e-41b9-ac54-7db3796433c6",
   "metadata": {},
   "outputs": [
    {
     "name": "stdout",
     "output_type": "stream",
     "text": [
      "Time for preprocessing with single thread: 254.22s\n"
     ]
    }
   ],
   "source": [
    "# Sequential processing first 200 headlines\n",
    "start_time = time.time()\n",
    "back_translated_hl_s = list(train_hl[0:200].map(back_translate_de_en))\n",
    "print(f\"Time for preprocessing with single thread: {time.time() - start_time:.2f}s\")"
   ]
  },
  {
   "cell_type": "code",
   "execution_count": 214,
   "id": "7c4be926-9366-4151-9105-617cb9c9d534",
   "metadata": {},
   "outputs": [
    {
     "name": "stdout",
     "output_type": "stream",
     "text": [
      "Time for preprocessing with multiprocessing: 18.40s\n"
     ]
    }
   ],
   "source": [
    "#Parallel processing first 200 headlines\n",
    "start_time = time.time()\n",
    "hl = train_hl[0:200]\n",
    "with Pool(12) as pool:\n",
    "    back_translated_hl = pool.map(back_translate_de_en, hl, 10)\n",
    "\n",
    "print(f\"Time for preprocessing with multiprocessing: {time.time() - start_time:.2f}s\")"
   ]
  },
  {
   "cell_type": "code",
   "execution_count": 209,
   "id": "e524ed55-d7ef-4a8b-a1df-52ccd9a60225",
   "metadata": {},
   "outputs": [
    {
     "data": {
      "text/plain": [
       "[None,\n",
       " 'the report suggests that stalin was one major purge away from creating a communist utopia',\n",
       " 'the threat to public health from private anger',\n",
       " 'radicalized patagonia releases new fleece made from 100% recycled oil company ceos',\n",
       " 'penis enlargement pills tested on dogs',\n",
       " None,\n",
       " \"military apologizes after drone strike on yemen's isis base accidentally hits west palm beach wedding\",\n",
       " \"earth's overpopulation: will it create valuable new markets?\",\n",
       " 'gummy bears send 14 chicago-area high school students to the hospital',\n",
       " 'guy in knitted hat at party calls beer a “libation”']"
      ]
     },
     "execution_count": 209,
     "metadata": {},
     "output_type": "execute_result"
    }
   ],
   "source": [
    "back_translated_hl[0:10]"
   ]
  },
  {
   "cell_type": "code",
   "execution_count": 217,
   "id": "5396dad1-0859-4745-bd01-f58c880a0af7",
   "metadata": {},
   "outputs": [
    {
     "ename": "ConnectionError",
     "evalue": "None: Max retries exceeded with url: /m?tl=en&sl=de&q=Was+wir+bisher+%C3%BCber+das+neue+Organigramm+des+Wei%C3%9Fen+Hauses+wissen (Caused by None)",
     "output_type": "error",
     "traceback": [
      "\u001b[0;31m---------------------------------------------------------------------------\u001b[0m",
      "\u001b[0;31mRemoteTraceback\u001b[0m                           Traceback (most recent call last)",
      "\u001b[0;31mRemoteTraceback\u001b[0m: \n\"\"\"\nTraceback (most recent call last):\n  File \"/usr/local/lib/python3.11/dist-packages/urllib3/connection.py\", line 174, in _new_conn\n    conn = connection.create_connection(\n           ^^^^^^^^^^^^^^^^^^^^^^^^^^^^^\n  File \"/usr/local/lib/python3.11/dist-packages/urllib3/util/connection.py\", line 95, in create_connection\n    raise err\n  File \"/usr/local/lib/python3.11/dist-packages/urllib3/util/connection.py\", line 85, in create_connection\n    sock.connect(sa)\nOSError: [Errno 113] No route to host\n\nDuring handling of the above exception, another exception occurred:\n\nTraceback (most recent call last):\n  File \"/usr/local/lib/python3.11/dist-packages/urllib3/connectionpool.py\", line 715, in urlopen\n    httplib_response = self._make_request(\n                       ^^^^^^^^^^^^^^^^^^^\n  File \"/usr/local/lib/python3.11/dist-packages/urllib3/connectionpool.py\", line 404, in _make_request\n    self._validate_conn(conn)\n  File \"/usr/local/lib/python3.11/dist-packages/urllib3/connectionpool.py\", line 1058, in _validate_conn\n    conn.connect()\n  File \"/usr/local/lib/python3.11/dist-packages/urllib3/connection.py\", line 363, in connect\n    self.sock = conn = self._new_conn()\n                       ^^^^^^^^^^^^^^^^\n  File \"/usr/local/lib/python3.11/dist-packages/urllib3/connection.py\", line 186, in _new_conn\n    raise NewConnectionError(\nurllib3.exceptions.NewConnectionError: <urllib3.connection.HTTPSConnection object at 0x7fc027559610>: Failed to establish a new connection: [Errno 113] No route to host\n\nDuring handling of the above exception, another exception occurred:\n\nTraceback (most recent call last):\n  File \"/usr/local/lib/python3.11/dist-packages/requests/adapters.py\", line 486, in send\n    resp = conn.urlopen(\n           ^^^^^^^^^^^^^\n  File \"/usr/local/lib/python3.11/dist-packages/urllib3/connectionpool.py\", line 799, in urlopen\n    retries = retries.increment(\n              ^^^^^^^^^^^^^^^^^^\n  File \"/usr/local/lib/python3.11/dist-packages/urllib3/util/retry.py\", line 592, in increment\n    raise MaxRetryError(_pool, url, error or ResponseError(cause))\nurllib3.exceptions.MaxRetryError: HTTPSConnectionPool(host='translate.google.com', port=443): Max retries exceeded with url: /m?tl=en&sl=de&q=Was+wir+bisher+%C3%BCber+das+neue+Organigramm+des+Wei%C3%9Fen+Hauses+wissen (Caused by NewConnectionError('<urllib3.connection.HTTPSConnection object at 0x7fc027559610>: Failed to establish a new connection: [Errno 113] No route to host'))\n\nDuring handling of the above exception, another exception occurred:\n\nTraceback (most recent call last):\n  File \"/usr/lib/python3.11/multiprocessing/pool.py\", line 125, in worker\n    result = (True, func(*args, **kwds))\n                    ^^^^^^^^^^^^^^^^^^^\n  File \"/usr/lib/python3.11/multiprocessing/pool.py\", line 48, in mapstar\n    return list(map(*args))\n           ^^^^^^^^^^^^^^^^\n  File \"/tmp/ipykernel_40/3239296083.py\", line 3, in back_translate_de_en\n    backtranslation = GoogleTranslator(source='de', target='en').translate(translation).lower()\n                      ^^^^^^^^^^^^^^^^^^^^^^^^^^^^^^^^^^^^^^^^^^^^^^^^^^^^^^^^^^^^^^^^^\n  File \"/usr/local/lib/python3.11/dist-packages/deep_translator/google.py\", line 67, in translate\n    response = requests.get(\n               ^^^^^^^^^^^^^\n  File \"/usr/local/lib/python3.11/dist-packages/requests/api.py\", line 73, in get\n    return request(\"get\", url, params=params, **kwargs)\n           ^^^^^^^^^^^^^^^^^^^^^^^^^^^^^^^^^^^^^^^^^^^^\n  File \"/usr/local/lib/python3.11/dist-packages/requests/api.py\", line 59, in request\n    return session.request(method=method, url=url, **kwargs)\n           ^^^^^^^^^^^^^^^^^^^^^^^^^^^^^^^^^^^^^^^^^^^^^^^^^\n  File \"/usr/local/lib/python3.11/dist-packages/requests/sessions.py\", line 589, in request\n    resp = self.send(prep, **send_kwargs)\n           ^^^^^^^^^^^^^^^^^^^^^^^^^^^^^^\n  File \"/usr/local/lib/python3.11/dist-packages/requests/sessions.py\", line 703, in send\n    r = adapter.send(request, **kwargs)\n        ^^^^^^^^^^^^^^^^^^^^^^^^^^^^^^^\n  File \"/usr/local/lib/python3.11/dist-packages/requests/adapters.py\", line 519, in send\n    raise ConnectionError(e, request=request)\nrequests.exceptions.ConnectionError: HTTPSConnectionPool(host='translate.google.com', port=443): Max retries exceeded with url: /m?tl=en&sl=de&q=Was+wir+bisher+%C3%BCber+das+neue+Organigramm+des+Wei%C3%9Fen+Hauses+wissen (Caused by NewConnectionError('<urllib3.connection.HTTPSConnection object at 0x7fc027559610>: Failed to establish a new connection: [Errno 113] No route to host'))\n\"\"\"",
      "\nThe above exception was the direct cause of the following exception:\n",
      "\u001b[0;31mConnectionError\u001b[0m                           Traceback (most recent call last)",
      "Cell \u001b[0;32mIn[217], line 4\u001b[0m\n\u001b[1;32m      2\u001b[0m hl \u001b[38;5;241m=\u001b[39m train_hl[\u001b[38;5;241m0\u001b[39m:\u001b[38;5;241m5000\u001b[39m]\n\u001b[1;32m      3\u001b[0m \u001b[38;5;28;01mwith\u001b[39;00m Pool(\u001b[38;5;241m18\u001b[39m) \u001b[38;5;28;01mas\u001b[39;00m pool:\n\u001b[0;32m----> 4\u001b[0m     back_translated_hl \u001b[38;5;241m=\u001b[39m \u001b[43mpool\u001b[49m\u001b[38;5;241;43m.\u001b[39;49m\u001b[43mmap\u001b[49m\u001b[43m(\u001b[49m\u001b[43mback_translate_de_en\u001b[49m\u001b[43m,\u001b[49m\u001b[43m \u001b[49m\u001b[43mhl\u001b[49m\u001b[43m,\u001b[49m\u001b[43m \u001b[49m\u001b[38;5;241;43m10\u001b[39;49m\u001b[43m)\u001b[49m\n\u001b[1;32m      6\u001b[0m \u001b[38;5;28mprint\u001b[39m(\u001b[38;5;124mf\u001b[39m\u001b[38;5;124m\"\u001b[39m\u001b[38;5;124mTime for preprocessing with multiprocessing: \u001b[39m\u001b[38;5;132;01m{\u001b[39;00mtime\u001b[38;5;241m.\u001b[39mtime()\u001b[38;5;250m \u001b[39m\u001b[38;5;241m-\u001b[39m\u001b[38;5;250m \u001b[39mstart_time\u001b[38;5;132;01m:\u001b[39;00m\u001b[38;5;124m.2f\u001b[39m\u001b[38;5;132;01m}\u001b[39;00m\u001b[38;5;124ms\u001b[39m\u001b[38;5;124m\"\u001b[39m)\n",
      "File \u001b[0;32m/usr/lib/python3.11/multiprocessing/pool.py:367\u001b[0m, in \u001b[0;36mPool.map\u001b[0;34m(self, func, iterable, chunksize)\u001b[0m\n\u001b[1;32m    362\u001b[0m \u001b[38;5;28;01mdef\u001b[39;00m \u001b[38;5;21mmap\u001b[39m(\u001b[38;5;28mself\u001b[39m, func, iterable, chunksize\u001b[38;5;241m=\u001b[39m\u001b[38;5;28;01mNone\u001b[39;00m):\n\u001b[1;32m    363\u001b[0m \u001b[38;5;250m    \u001b[39m\u001b[38;5;124;03m'''\u001b[39;00m\n\u001b[1;32m    364\u001b[0m \u001b[38;5;124;03m    Apply `func` to each element in `iterable`, collecting the results\u001b[39;00m\n\u001b[1;32m    365\u001b[0m \u001b[38;5;124;03m    in a list that is returned.\u001b[39;00m\n\u001b[1;32m    366\u001b[0m \u001b[38;5;124;03m    '''\u001b[39;00m\n\u001b[0;32m--> 367\u001b[0m     \u001b[38;5;28;01mreturn\u001b[39;00m \u001b[38;5;28;43mself\u001b[39;49m\u001b[38;5;241;43m.\u001b[39;49m\u001b[43m_map_async\u001b[49m\u001b[43m(\u001b[49m\u001b[43mfunc\u001b[49m\u001b[43m,\u001b[49m\u001b[43m \u001b[49m\u001b[43miterable\u001b[49m\u001b[43m,\u001b[49m\u001b[43m \u001b[49m\u001b[43mmapstar\u001b[49m\u001b[43m,\u001b[49m\u001b[43m \u001b[49m\u001b[43mchunksize\u001b[49m\u001b[43m)\u001b[49m\u001b[38;5;241;43m.\u001b[39;49m\u001b[43mget\u001b[49m\u001b[43m(\u001b[49m\u001b[43m)\u001b[49m\n",
      "File \u001b[0;32m/usr/lib/python3.11/multiprocessing/pool.py:774\u001b[0m, in \u001b[0;36mApplyResult.get\u001b[0;34m(self, timeout)\u001b[0m\n\u001b[1;32m    772\u001b[0m     \u001b[38;5;28;01mreturn\u001b[39;00m \u001b[38;5;28mself\u001b[39m\u001b[38;5;241m.\u001b[39m_value\n\u001b[1;32m    773\u001b[0m \u001b[38;5;28;01melse\u001b[39;00m:\n\u001b[0;32m--> 774\u001b[0m     \u001b[38;5;28;01mraise\u001b[39;00m \u001b[38;5;28mself\u001b[39m\u001b[38;5;241m.\u001b[39m_value\n",
      "\u001b[0;31mConnectionError\u001b[0m: None: Max retries exceeded with url: /m?tl=en&sl=de&q=Was+wir+bisher+%C3%BCber+das+neue+Organigramm+des+Wei%C3%9Fen+Hauses+wissen (Caused by None)"
     ]
    }
   ],
   "source": [
    "start_time = time.time()\n",
    "hl = train_hl[0:5000]\n",
    "with Pool(18) as pool:\n",
    "    back_translated_hl = pool.map(back_translate_de_en, hl, 10)\n",
    "\n",
    "print(f\"Time for preprocessing with multiprocessing: {time.time() - start_time:.2f}s\")"
   ]
  },
  {
   "cell_type": "markdown",
   "id": "d94884e8-c5eb-4375-9baf-b3ed5fd3ac32",
   "metadata": {},
   "source": [
    "## 2b) NLP Aug and Textattack"
   ]
  },
  {
   "cell_type": "markdown",
   "id": "e164ea30-a23b-4ad0-8b33-1e0bc7b03705",
   "metadata": {},
   "source": [
    "### Preprocess"
   ]
  },
  {
   "cell_type": "code",
   "execution_count": 139,
   "id": "8bb2a7c2-45df-43fe-ad93-dc6fcd1b46a3",
   "metadata": {},
   "outputs": [],
   "source": [
    "#headline preprocessing fuctions\n",
    "\n",
    "def strip_html_tags(text): #probably irrelevant\n",
    "    soup = BeautifulSoup(text, \"html.parser\")\n",
    "    [s.extract() for s in soup(['iframe', 'script'])]\n",
    "    stripped_text = soup.get_text()\n",
    "    stripped_text = re.sub(r'[\\r|\\n|\\r\\n]+', '\\n', stripped_text)\n",
    "    return stripped_text\n",
    "\n",
    "def remove_accented_chars(text): #probably irrelevant\n",
    "    text = unicodedata.normalize('NFKD', text).encode('ascii', 'ignore').decode('utf-8', 'ignore')\n",
    "    return text\n",
    "\n",
    "def pre_process_headline(doc):\n",
    "    doc = strip_html_tags(doc)\n",
    "    doc = doc.translate(doc.maketrans(\"\\n\\t\\r\", \"   \"))\n",
    "    doc = doc.lower()\n",
    "    doc = remove_accented_chars(doc)\n",
    "    doc = contractions.fix(doc)\n",
    "    doc = re.sub('[^\\w\\s]','',doc) #remove puctuation (added to original code)\n",
    "    doc = re.sub('\\d','',doc) #remove numbers (added to original code)\n",
    "    # lower case and remove special characters\\whitespaces \n",
    "    doc = re.sub(r'[^a-zA-Z0-9\\s]', ' ', doc, flags=re.I|re.A)\n",
    "    doc = re.sub(' +', ' ', doc)\n",
    "    doc = doc.strip()  \n",
    "    return doc"
   ]
  },
  {
   "cell_type": "code",
   "execution_count": 259,
   "id": "69e0216b-247a-491e-bf7e-4dd963a03656",
   "metadata": {},
   "outputs": [
    {
     "name": "stdout",
     "output_type": "stream",
     "text": [
      "Time for preprocessing with multiprocessing: 0.90s\n"
     ]
    }
   ],
   "source": [
    "start_time = time.time()\n",
    "\n",
    "with Pool(6) as pool:\n",
    "    train_hl_p = pool.map(pre_process_headline, train_hl, 200)\n",
    "\n",
    "print(f\"Time for preprocessing with multiprocessing: {time.time() - start_time:.2f}s\")\n",
    "\n",
    "with Pool(6) as pool:\n",
    "    val_hl_p = pool.map(pre_process_headline, val_hl, 200)\n",
    "\n",
    "with Pool(6) as pool:\n",
    "    test_hl_p = pool.map(pre_process_headline, test_hl, 200)\n",
    "\n",
    "\n"
   ]
  },
  {
   "cell_type": "markdown",
   "id": "ce6319f3-781d-491d-ba69-5aef5e44ac43",
   "metadata": {},
   "source": [
    "### Synonym replacement"
   ]
  },
  {
   "cell_type": "code",
   "execution_count": 27,
   "id": "1869e62e-b817-4833-8d55-356fa9e63542",
   "metadata": {},
   "outputs": [
    {
     "name": "stdout",
     "output_type": "stream",
     "text": [
      "Original text : climate change puts the squeeze on wine production\n",
      "Augmented text : ['climate alteration redact the squeeze on wine output']\n"
     ]
    }
   ],
   "source": [
    "#synonym replacement example\n",
    "syn_aug = naw.SynonymAug(aug_p=0.3)\n",
    "sentence = 'climate change puts the squeeze on wine production'\n",
    "mod_sentence = syn_aug.augment(sentence, n=1)\n",
    "print('Original text :', sentence)\n",
    "print('Augmented text :', mod_sentence)\n"
   ]
  },
  {
   "cell_type": "code",
   "execution_count": 12,
   "id": "abab8f5e-b91b-45e7-b916-418c6e34b7d4",
   "metadata": {},
   "outputs": [],
   "source": [
    "train_hl_p_s = train_hl_p.copy()"
   ]
  },
  {
   "cell_type": "code",
   "execution_count": 141,
   "id": "c83749e8-9fde-415e-a560-e75ab32e98bd",
   "metadata": {},
   "outputs": [],
   "source": [
    "syn_aug = naw.SynonymAug(aug_p=0.8) #aug_p: how many words ber sentence are replaced with synonyms\n",
    "\n",
    "for i,h in enumerate(train_hl_p_s):\n",
    "    mod_sentence = syn_aug.augment(h, n=1) #how many sentences\n",
    "    train_hl_p_s[i] = mod_sentence[0]"
   ]
  },
  {
   "cell_type": "code",
   "execution_count": 142,
   "id": "2326e612-057b-4a26-8395-174412fafd23",
   "metadata": {},
   "outputs": [
    {
     "data": {
      "text/plain": [
       "['franchesca ramseys back away menage for horn devotee monetary note value magnificent',\n",
       " 'paper indicate chief joseph stalin cost scarce corresponding a pellet peerless greathearted regurgitation by from create commie sion',\n",
       " 'the public health scourge of inscrutable anger',\n",
       " \"radicalize patagonia put taboo fresh wool gain of recycled harlan fluorine. i. f. stone tilt candy petroleum ship ' s company chief lock officer\",\n",
       " 'phallus enlargement anovulatory drug demonstrate on weenie',\n",
       " \"every tomboy template to hold up a mod artium magister ' be\",\n",
       " 'military apologizes after droning strike destine for yemeni inter spiritual service intelligence procedure al qaeda by lot bang west palm beach wedlock ceremonial social function',\n",
       " 'overpopulation of the blase business concern vexation leave behind datum utilise science create valuable fresh market',\n",
       " 'mucilaginous bear ship chicagoarea naughty pitch shot school twenty iv hour scholarly mortal to hospital',\n",
       " 'boyfriend with apparent stitch hat at caller outcry beer libation']"
      ]
     },
     "execution_count": 142,
     "metadata": {},
     "output_type": "execute_result"
    }
   ],
   "source": [
    "train_hl_p_s[0:10]"
   ]
  },
  {
   "cell_type": "code",
   "execution_count": 143,
   "id": "49127c9e-ec12-4964-9462-56bf52ec527d",
   "metadata": {},
   "outputs": [],
   "source": [
    "#augment data set: choose a proportion of all sentences containing synonyms to append to original data set\n",
    "def append_augmented_data(orig = train_hl_p, aug = train_hl_p_s, label = list(train_l), proportion=0.5):\n",
    "    sample = random.sample(range(int(len(label))),int(len(label)*proportion))\n",
    "\n",
    "    hl = orig.copy()\n",
    "    l = label.copy()\n",
    "    \n",
    "    for n in sample:\n",
    "        hl.append(aug[n])\n",
    "        l.append(label[n])\n",
    "\n",
    "    return hl, l"
   ]
  },
  {
   "cell_type": "code",
   "execution_count": 144,
   "id": "d8560bd2-ebbd-463d-bd01-ec41e7ad1cd0",
   "metadata": {},
   "outputs": [],
   "source": [
    "train_hl_p_aug, train_l_aug = append_augmented_data(proportion=1)"
   ]
  },
  {
   "cell_type": "code",
   "execution_count": 145,
   "id": "49e1f3ad-3b58-4d59-8507-763cb1998148",
   "metadata": {},
   "outputs": [
    {
     "data": {
      "text/plain": [
       "23086"
      ]
     },
     "execution_count": 145,
     "metadata": {},
     "output_type": "execute_result"
    }
   ],
   "source": [
    "len(train_hl)"
   ]
  },
  {
   "cell_type": "code",
   "execution_count": 146,
   "id": "c3fe1476-c50f-43fe-8720-e9a9c3af056f",
   "metadata": {},
   "outputs": [
    {
     "data": {
      "text/plain": [
       "46172"
      ]
     },
     "execution_count": 146,
     "metadata": {},
     "output_type": "execute_result"
    }
   ],
   "source": [
    "len(train_hl_p_aug)"
   ]
  },
  {
   "cell_type": "code",
   "execution_count": 148,
   "id": "9e435101-11e0-4d95-9ad7-7158179c1d78",
   "metadata": {},
   "outputs": [
    {
     "data": {
      "text/plain": [
       "61"
      ]
     },
     "execution_count": 148,
     "metadata": {},
     "output_type": "execute_result"
    }
   ],
   "source": [
    "pd.DataFrame(train_hl_p_aug).duplicated().sum()"
   ]
  },
  {
   "cell_type": "code",
   "execution_count": 150,
   "id": "a8e01c79-b319-483a-be7a-a3ec7ced8390",
   "metadata": {},
   "outputs": [],
   "source": [
    "df = pd.DataFrame({'headline':train_hl_p_aug, 'label':train_l_aug})\n",
    "df.drop_duplicates(inplace = True)"
   ]
  },
  {
   "cell_type": "code",
   "execution_count": 151,
   "id": "fa886459-aea1-4e72-8ffb-4743cb4c2be3",
   "metadata": {},
   "outputs": [],
   "source": [
    "df = df.sample(frac=1, random_state=42)"
   ]
  },
  {
   "cell_type": "code",
   "execution_count": 153,
   "id": "db71fea9-84e9-4d82-b124-c286d9af66c4",
   "metadata": {},
   "outputs": [],
   "source": [
    "train_hl_p_aug = df['headline']\n",
    "train_l_aug = df['label']"
   ]
  },
  {
   "cell_type": "markdown",
   "id": "8d15dc1a-8005-4eb2-b4c2-ca7c9f997d52",
   "metadata": {},
   "source": [
    "### Easy Augmenter"
   ]
  },
  {
   "cell_type": "code",
   "execution_count": 222,
   "id": "9b81bc54-5688-4bdd-b7d6-231add85dc47",
   "metadata": {},
   "outputs": [
    {
     "name": "stderr",
     "output_type": "stream",
     "text": [
      "[nltk_data] Downloading package omw-1.4 to /root/nltk_data...\n",
      "[nltk_data]   Package omw-1.4 is already up-to-date!\n"
     ]
    },
    {
     "data": {
      "text/plain": [
       "['thoughts each day with positive start and make your day']"
      ]
     },
     "execution_count": 222,
     "metadata": {},
     "output_type": "execute_result"
    }
   ],
   "source": [
    "#example\n",
    "eda_aug = EasyDataAugmenter(pct_words_to_swap=0.2, transformations_per_example=1)\n",
    "eda_aug.augment(\"start each day with positive thoughts and make your day\")"
   ]
  },
  {
   "cell_type": "code",
   "execution_count": 262,
   "id": "8184d0a2-bb9f-4c31-bd36-1654efad65fb",
   "metadata": {},
   "outputs": [],
   "source": [
    "train_hl_p_ea = train_hl_p.copy()"
   ]
  },
  {
   "cell_type": "code",
   "execution_count": 263,
   "id": "d6db1d04-f958-4ef1-a18d-9cc8ba7cab70",
   "metadata": {},
   "outputs": [],
   "source": [
    "for i,h in enumerate(train_hl_p_ea):\n",
    "    mod_sentence = eda_aug.augment(h) \n",
    "    train_hl_p_ea[i] = mod_sentence[0]"
   ]
  },
  {
   "cell_type": "code",
   "execution_count": 276,
   "id": "4a768c66-6e85-4d2f-bcdf-7cf5c9eb7bab",
   "metadata": {},
   "outputs": [],
   "source": [
    "df2 = pd.DataFrame({'headline':train_hl_p + train_hl_p_ea, 'label':list(train_l) + list(train_l)})\n",
    "df2.drop_duplicates(inplace = True)\n",
    "df2 = df2.sample(frac=1, random_state=42)\n",
    "train_hl_p_eag = df2['headline']\n",
    "train_l_eag = df2['label']"
   ]
  },
  {
   "cell_type": "markdown",
   "id": "a1f307b9-fe6e-48c4-911d-9617bc569812",
   "metadata": {},
   "source": [
    "\n",
    "### Other examples (unused)"
   ]
  },
  {
   "cell_type": "code",
   "execution_count": 279,
   "id": "a1d849f4-1977-4287-aa79-aba70b0b95df",
   "metadata": {},
   "outputs": [
    {
     "name": "stdout",
     "output_type": "stream",
     "text": [
      "Original text : climate change puts the squeeze on wine production\n",
      "Augmented text : ['change climate puts squeeze on the wine production']\n"
     ]
    }
   ],
   "source": [
    "sentence = 'climate change puts the squeeze on wine production'\n",
    "\n",
    "#Random swap\n",
    "aug = naw.random.RandomWordAug(action='swap', aug_p=0.3)\n",
    "mod_sentence = aug.augment(sentence, n=1)\n",
    "print('Original text :', sentence)\n",
    "print('Augmented text :', mod_sentence)"
   ]
  },
  {
   "cell_type": "code",
   "execution_count": 280,
   "id": "f75c0609-684d-4838-92cc-fa74b18df535",
   "metadata": {},
   "outputs": [
    {
     "name": "stdout",
     "output_type": "stream",
     "text": [
      "Original text : climate change puts the squeeze on wine production\n",
      "Augmented text : ['climate puts squeeze wine production']\n"
     ]
    }
   ],
   "source": [
    "#random deletion/insertion\n",
    "aug = naw.random.RandomWordAug(action='delete', aug_p=0.3)\n",
    "mod_sentence = aug.augment(sentence, n=1)\n",
    "print('Original text :', sentence)\n",
    "print('Augmented text :', mod_sentence)"
   ]
  },
  {
   "cell_type": "code",
   "execution_count": 281,
   "id": "ce1d8962-f3bd-4aaa-bf86-5e1d9260c37d",
   "metadata": {},
   "outputs": [
    {
     "name": "stdout",
     "output_type": "stream",
     "text": [
      "Original text : climate change puts the squeeze on wine production\n",
      "Augmented text : ['climate change divest the squeeze on wine production']\n"
     ]
    }
   ],
   "source": [
    "#Antonym Replacement\n",
    "aug = naw.AntonymAug(aug_p=0.3)\n",
    "mod_sentence = aug.augment(sentence, n=1)\n",
    "print('Original text :', sentence)\n",
    "print('Augmented text :', mod_sentence)"
   ]
  },
  {
   "cell_type": "code",
   "execution_count": 282,
   "id": "c79ce8bb-195c-4cdf-b7ba-83ebb2b84697",
   "metadata": {},
   "outputs": [
    {
     "name": "stderr",
     "output_type": "stream",
     "text": [
      "[nltk_data] Downloading package omw-1.4 to /root/nltk_data...\n",
      "[nltk_data]   Package omw-1.4 is already up-to-date!\n"
     ]
    },
    {
     "data": {
      "text/plain": [
       "['climate change puts the contract on wine production']"
      ]
     },
     "execution_count": 282,
     "metadata": {},
     "output_type": "execute_result"
    }
   ],
   "source": [
    "#Augments text by replacing with synonyms from the WordNet thesaurus\n",
    "from textattack.augmentation import WordNetAugmenter\n",
    "wordnet_aug = WordNetAugmenter()\n",
    "wordnet_aug.augment(sentence)"
   ]
  },
  {
   "cell_type": "code",
   "execution_count": 283,
   "id": "aebc0fc2-aa5a-4493-809f-b397e2a9b84e",
   "metadata": {},
   "outputs": [
    {
     "data": {
      "text/plain": [
       "['climate amendments puts the squeeze on wine production']"
      ]
     },
     "execution_count": 283,
     "metadata": {},
     "output_type": "execute_result"
    }
   ],
   "source": [
    "#Augments text by transforming words with their embeddings.\n",
    "from textattack.augmentation import EmbeddingAugmenter\n",
    "embed_aug = EmbeddingAugmenter()\n",
    "embed_aug.augment(sentence)"
   ]
  },
  {
   "cell_type": "markdown",
   "id": "1b76551d-bdd0-4509-95d4-f3f29e9d3227",
   "metadata": {},
   "source": [
    "# 3) Logistic regression with NLPAug"
   ]
  },
  {
   "cell_type": "code",
   "execution_count": 154,
   "id": "958239b0-96fa-4f1e-82e6-a372c041b888",
   "metadata": {},
   "outputs": [
    {
     "name": "stdout",
     "output_type": "stream",
     "text": [
      "BOW model:> Train features shape: (46111, 29467)  Test features shape: (2851, 29467)\n"
     ]
    }
   ],
   "source": [
    "train_hl = train_hl_p_aug\n",
    "train_l = train_l_aug\n",
    "\n",
    "cv = CountVectorizer(binary=False, min_df=2, max_df=1.0)\n",
    "\n",
    "cv_train_features = cv.fit_transform(train_hl)\n",
    "cv_test_features = cv.transform(test_hl)\n",
    "print('BOW model:> Train features shape:', cv_train_features.shape, ' Test features shape:', cv_test_features.shape)"
   ]
  },
  {
   "cell_type": "code",
   "execution_count": 155,
   "id": "c6c9097f-3348-4c0a-b5a1-01e1da4f6709",
   "metadata": {},
   "outputs": [
    {
     "data": {
      "text/plain": [
       "<46111x29467 sparse matrix of type '<class 'numpy.int64'>'\n",
       "\twith 534742 stored elements in Compressed Sparse Row format>"
      ]
     },
     "execution_count": 155,
     "metadata": {},
     "output_type": "execute_result"
    }
   ],
   "source": [
    "cv_train_features"
   ]
  },
  {
   "cell_type": "code",
   "execution_count": 156,
   "id": "3155d164-da8f-494c-b4ee-0872b9c22680",
   "metadata": {},
   "outputs": [
    {
     "name": "stdout",
     "output_type": "stream",
     "text": [
      "CPU times: user 4.62 s, sys: 23.4 s, total: 28 s\n",
      "Wall time: 2.6 s\n"
     ]
    }
   ],
   "source": [
    "%%time\n",
    "\n",
    "# instantiate model \n",
    "#L2 = regularization, C = inverse of regularization strength, max_iter= Maximum number of iterations taken for the solvers to converge\n",
    "#Limited-memory BFGS\n",
    "\n",
    "lr = LogisticRegression(penalty='l2', max_iter=500, C=1, solver='lbfgs', random_state=42)\n",
    "\n",
    "# train model\n",
    "lr.fit(cv_train_features, train_l)\n",
    "\n",
    "# predict on test data\n",
    "lr_bow_predictions = lr.predict(cv_test_features)"
   ]
  },
  {
   "cell_type": "code",
   "execution_count": 157,
   "id": "7a3241bc-b369-42b9-98a0-b4e282cdf17f",
   "metadata": {},
   "outputs": [
    {
     "name": "stdout",
     "output_type": "stream",
     "text": [
      "              precision    recall  f1-score   support\n",
      "\n",
      "           0       0.86      0.83      0.85      1516\n",
      "           1       0.82      0.84      0.83      1335\n",
      "\n",
      "    accuracy                           0.84      2851\n",
      "   macro avg       0.84      0.84      0.84      2851\n",
      "weighted avg       0.84      0.84      0.84      2851\n",
      "\n"
     ]
    },
    {
     "data": {
      "text/html": [
       "<div>\n",
       "<style scoped>\n",
       "    .dataframe tbody tr th:only-of-type {\n",
       "        vertical-align: middle;\n",
       "    }\n",
       "\n",
       "    .dataframe tbody tr th {\n",
       "        vertical-align: top;\n",
       "    }\n",
       "\n",
       "    .dataframe thead th {\n",
       "        text-align: right;\n",
       "    }\n",
       "</style>\n",
       "<table border=\"1\" class=\"dataframe\">\n",
       "  <thead>\n",
       "    <tr style=\"text-align: right;\">\n",
       "      <th></th>\n",
       "      <th>0</th>\n",
       "      <th>1</th>\n",
       "    </tr>\n",
       "  </thead>\n",
       "  <tbody>\n",
       "    <tr>\n",
       "      <th>0</th>\n",
       "      <td>1265</td>\n",
       "      <td>251</td>\n",
       "    </tr>\n",
       "    <tr>\n",
       "      <th>1</th>\n",
       "      <td>210</td>\n",
       "      <td>1125</td>\n",
       "    </tr>\n",
       "  </tbody>\n",
       "</table>\n",
       "</div>"
      ],
      "text/plain": [
       "      0     1\n",
       "0  1265   251\n",
       "1   210  1125"
      ]
     },
     "execution_count": 157,
     "metadata": {},
     "output_type": "execute_result"
    }
   ],
   "source": [
    "print(classification_report(test_l, lr_bow_predictions))\n",
    "pd.DataFrame(confusion_matrix(test_l, lr_bow_predictions))"
   ]
  },
  {
   "cell_type": "code",
   "execution_count": 21,
   "id": "6f9cc6be-ff0b-45c4-a9ce-7d770d1e0ca0",
   "metadata": {},
   "outputs": [],
   "source": [
    "misclassified_indices = np.where(lr_bow_predictions != test_l)[0]\n",
    "#for index in misclassified_indices:\n",
    "#    print(f\"Instance {index + 1}, Headline: {norm_test_texts[index]} - Predicted: {lr_bow_predictions[index]}, Actual: {np.array(test_l)[index]}\")"
   ]
  },
  {
   "cell_type": "markdown",
   "id": "3dc11b60-b8e3-4742-b9e1-a148e5021a68",
   "metadata": {},
   "source": [
    "# 4) FastText Embeddings + CNN with NLP Aug"
   ]
  },
  {
   "cell_type": "code",
   "execution_count": 22,
   "id": "7ca969a6-8aff-44b7-b3c7-9ffdd0af4de9",
   "metadata": {},
   "outputs": [],
   "source": [
    "#!curl https://dl.fbaipublicfiles.com/fasttext/vectors-english/crawl-300d-2M-subword.zip -o data.zip"
   ]
  },
  {
   "cell_type": "code",
   "execution_count": 23,
   "id": "167853f1-cccf-447c-b449-f186d444c96a",
   "metadata": {},
   "outputs": [],
   "source": [
    "#!unzip data.zip"
   ]
  },
  {
   "cell_type": "code",
   "execution_count": 158,
   "id": "85e10412-7b29-48d4-9714-9f1285ae91fc",
   "metadata": {},
   "outputs": [],
   "source": [
    "t = tf.keras.preprocessing.text.Tokenizer(oov_token='<UNK>')\n",
    "# fit the tokenizer on the documents\n",
    "t.fit_on_texts(train_hl)\n",
    "t.word_index['<PAD>'] = 0"
   ]
  },
  {
   "cell_type": "code",
   "execution_count": 159,
   "id": "d4c78db4-84b9-4d52-9e06-8358ac9696d0",
   "metadata": {},
   "outputs": [
    {
     "name": "stdout",
     "output_type": "stream",
     "text": [
      "('eyelet', 37624) ('<PAD>', 0) 1\n"
     ]
    }
   ],
   "source": [
    "print(max([(k, v) for k, v in t.word_index.items()], key = lambda x:x[1]), \n",
    "      min([(k, v) for k, v in t.word_index.items()], key = lambda x:x[1]), \n",
    "      t.word_index['<UNK>'])"
   ]
  },
  {
   "cell_type": "code",
   "execution_count": 160,
   "id": "10fc70c9-3999-4d6c-b985-d0d3c2a7020e",
   "metadata": {},
   "outputs": [],
   "source": [
    "train_sequences = t.texts_to_sequences(train_hl)\n",
    "val_sequences = t.texts_to_sequences(val_hl)\n",
    "test_sequences = t.texts_to_sequences(test_hl)"
   ]
  },
  {
   "cell_type": "code",
   "execution_count": 161,
   "id": "302052dd-eba8-45d3-81d6-e2d8e8cf4ddd",
   "metadata": {},
   "outputs": [
    {
     "name": "stdout",
     "output_type": "stream",
     "text": [
      "Vocabulary size=37625\n",
      "Number of Documents=46111\n"
     ]
    }
   ],
   "source": [
    "print(\"Vocabulary size={}\".format(len(t.word_index)))\n",
    "print(\"Number of Documents={}\".format(t.document_count))"
   ]
  },
  {
   "cell_type": "code",
   "execution_count": 162,
   "id": "480c25d5-4bc9-4914-81dc-04facecb5b3c",
   "metadata": {},
   "outputs": [
    {
     "data": {
      "text/plain": [
       "(0.0, 30.0)"
      ]
     },
     "execution_count": 162,
     "metadata": {},
     "output_type": "execute_result"
    },
    {
     "data": {
      "image/png": "[encoded data removed]",
      "text/plain": [
       "<Figure size 640x480 with 1 Axes>"
      ]
     },
     "metadata": {},
     "output_type": "display_data"
    }
   ],
   "source": [
    "plt.hist([len(doc.split()) for doc in train_hl], bins=100);\n",
    "plt.xlim([0, 30])"
   ]
  },
  {
   "cell_type": "code",
   "execution_count": 163,
   "id": "594700cb-c4e0-4f33-82b5-cd3005a843a8",
   "metadata": {},
   "outputs": [
    {
     "data": {
      "text/plain": [
       "((46111, 20), (2851, 20))"
      ]
     },
     "execution_count": 163,
     "metadata": {},
     "output_type": "execute_result"
    }
   ],
   "source": [
    "MAX_SEQUENCE_LENGTH = 20\n",
    "\n",
    "# pad dataset to a maximum review length in words\n",
    "X_train = tf.keras.preprocessing.sequence.pad_sequences(train_sequences, maxlen=MAX_SEQUENCE_LENGTH)\n",
    "X_val = tf.keras.preprocessing.sequence.pad_sequences(val_sequences, maxlen=MAX_SEQUENCE_LENGTH)\n",
    "X_test = tf.keras.preprocessing.sequence.pad_sequences(test_sequences, maxlen=MAX_SEQUENCE_LENGTH)\n",
    "X_train.shape, X_test.shape"
   ]
  },
  {
   "cell_type": "code",
   "execution_count": 164,
   "id": "b5a4c097-d040-4629-b807-5011aa9bb9e8",
   "metadata": {},
   "outputs": [
    {
     "name": "stdout",
     "output_type": "stream",
     "text": [
      "Original headline:  drinking beer could help save this adorable red panda\n",
      "token sequence:  [1289, 312, 5489, 5490, 6185, 7564, 6, 19644, 19645, 619, 365, 6, 1814, 513, 136, 136, 305]\n",
      "padded sequence:  [    0     0     0  1289   312  5489  5490  6185  7564     6 19644 19645\n",
      "   619   365     6  1814   513   136   136   305]\n"
     ]
    }
   ],
   "source": [
    "r = 100\n",
    "print('Original headline: ', train_hl[r])\n",
    "print('token sequence: ', train_sequences[r])\n",
    "print('padded sequence: ', X_train[r])"
   ]
  },
  {
   "cell_type": "code",
   "execution_count": 165,
   "id": "67c6520e-edab-46c5-94ac-fd23b207a446",
   "metadata": {},
   "outputs": [],
   "source": [
    "word2idx = t.word_index\n",
    "FASTTEXT_INIT_EMBEDDINGS_FILE = './crawl-300d-2M-subword.vec'\n",
    "VOCAB_SIZE = len(t.word_index)\n",
    "\n",
    "\n",
    "def load_pretrained_embeddings(word_to_index, max_features, embedding_size, embedding_file_path):    \n",
    "    \n",
    "    def get_coefs(word,*arr): \n",
    "        return word, np.asarray(arr, dtype='float32')\n",
    "    \n",
    "    embeddings_index = dict(get_coefs(*row.split(\" \")) \n",
    "                                for row in open(embedding_file_path, encoding=\"utf8\", errors='ignore') \n",
    "                                    if len(row)>100)\n",
    "\n",
    "    all_embs = np.stack(list(embeddings_index.values()))\n",
    "    emb_mean, emb_std = all_embs.mean(), all_embs.std()\n",
    "    embed_size = all_embs.shape[1]\n",
    "\n",
    "    nb_words = min(max_features, len(word_to_index))\n",
    "    embedding_matrix = np.random.normal(emb_mean, emb_std, (nb_words, embedding_size))\n",
    "    \n",
    "    for word, idx in word_to_index.items():\n",
    "        if idx >= max_features: \n",
    "            continue\n",
    "        embedding_vector = embeddings_index.get(word)\n",
    "        if embedding_vector is not None: \n",
    "            embedding_matrix[idx] = embedding_vector\n",
    "\n",
    "    return embedding_matrix"
   ]
  },
  {
   "cell_type": "code",
   "execution_count": 166,
   "id": "32876763-9393-44a6-a7f5-661412b81c6f",
   "metadata": {},
   "outputs": [
    {
     "data": {
      "text/plain": [
       "(37625, 300)"
      ]
     },
     "execution_count": 166,
     "metadata": {},
     "output_type": "execute_result"
    }
   ],
   "source": [
    "EMBED_SIZE = 300\n",
    "\n",
    "ft_embeddings = load_pretrained_embeddings(word_to_index=word2idx, \n",
    "                                           max_features=VOCAB_SIZE, \n",
    "                                           embedding_size=EMBED_SIZE, \n",
    "                                           embedding_file_path=FASTTEXT_INIT_EMBEDDINGS_FILE)\n",
    "ft_embeddings.shape"
   ]
  },
  {
   "cell_type": "code",
   "execution_count": 167,
   "id": "74e948e2-d7cf-4533-9e50-716f451a948e",
   "metadata": {},
   "outputs": [
    {
     "name": "stdout",
     "output_type": "stream",
     "text": [
      "Model: \"sequential_6\"\n",
      "_________________________________________________________________\n",
      " Layer (type)                Output Shape              Param #   \n",
      "=================================================================\n",
      " embedding_4 (Embedding)     (None, 20, 300)           11287500  \n",
      "                                                                 \n",
      " conv1d_4 (Conv1D)           (None, 20, 256)           307456    \n",
      "                                                                 \n",
      " max_pooling1d_4 (MaxPoolin  (None, 10, 256)           0         \n",
      " g1D)                                                            \n",
      "                                                                 \n",
      " conv1d_5 (Conv1D)           (None, 10, 128)           131200    \n",
      "                                                                 \n",
      " max_pooling1d_5 (MaxPoolin  (None, 5, 128)            0         \n",
      " g1D)                                                            \n",
      "                                                                 \n",
      " conv1d_6 (Conv1D)           (None, 5, 64)             32832     \n",
      "                                                                 \n",
      " max_pooling1d_6 (MaxPoolin  (None, 2, 64)             0         \n",
      " g1D)                                                            \n",
      "                                                                 \n",
      " flatten_2 (Flatten)         (None, 128)               0         \n",
      "                                                                 \n",
      " dense_17 (Dense)            (None, 256)               33024     \n",
      "                                                                 \n",
      " dropout_46 (Dropout)        (None, 256)               0         \n",
      "                                                                 \n",
      " dense_18 (Dense)            (None, 256)               65792     \n",
      "                                                                 \n",
      " dropout_47 (Dropout)        (None, 256)               0         \n",
      "                                                                 \n",
      " dense_19 (Dense)            (None, 1)                 257       \n",
      "                                                                 \n",
      "=================================================================\n",
      "Total params: 11858061 (45.23 MB)\n",
      "Trainable params: 11858061 (45.23 MB)\n",
      "Non-trainable params: 0 (0.00 Byte)\n",
      "_________________________________________________________________\n"
     ]
    }
   ],
   "source": [
    "# cnn model from exercises\n",
    "model = tf.keras.models.Sequential()\n",
    "\n",
    "model.add(tf.keras.layers.Embedding(VOCAB_SIZE, EMBED_SIZE,\n",
    "                                    weights=[ft_embeddings], #use ft_embeddings here\n",
    "                                    trainable=True,\n",
    "                                    input_length=MAX_SEQUENCE_LENGTH))\n",
    "\n",
    "model.add(tf.keras.layers.Conv1D(filters=256, kernel_size=4, padding='same', activation='relu'))\n",
    "model.add(tf.keras.layers.MaxPooling1D(pool_size=2))\n",
    "\n",
    "model.add(tf.keras.layers.Conv1D(filters=128, kernel_size=4, padding='same', activation='relu'))\n",
    "model.add(tf.keras.layers.MaxPooling1D(pool_size=2))\n",
    "\n",
    "model.add(tf.keras.layers.Conv1D(filters=64, kernel_size=4, padding='same', activation='relu'))\n",
    "model.add(tf.keras.layers.MaxPooling1D(pool_size=2))\n",
    "\n",
    "model.add(tf.keras.layers.Flatten())\n",
    "\n",
    "model.add(tf.keras.layers.Dense(256, activation='relu'))\n",
    "model.add(tf.keras.layers.Dropout(0.25))\n",
    "model.add(tf.keras.layers.Dense(256, activation='relu'))\n",
    "model.add(tf.keras.layers.Dropout(0.25))\n",
    "model.add(tf.keras.layers.Dense(1, activation='sigmoid'))\n",
    "\n",
    "model.compile(loss='binary_crossentropy', optimizer='adam', metrics=['accuracy'])\n",
    "model.summary()"
   ]
  },
  {
   "cell_type": "code",
   "execution_count": 168,
   "id": "ea6d738f-45fd-4f6a-96d0-23dc04b33cfa",
   "metadata": {},
   "outputs": [],
   "source": [
    "def plot_graphs(history, string):\n",
    "    plt.plot(history.history[string])\n",
    "    plt.plot(history.history['val_'+string])\n",
    "    plt.xlabel(\"Epochs\")\n",
    "    plt.ylabel(string)\n",
    "    plt.legend([string, 'val_'+string])\n",
    "    plt.show()\n",
    "\n",
    "def model_training_evaluation(model = model, \n",
    "                             monitor = 'val_loss',\n",
    "                             epochs = 10,\n",
    "                             batch_size = 128,\n",
    "                             patience = 2,\n",
    "                             verbose = 1):\n",
    "    # Fit the model\n",
    "    es = tf.keras.callbacks.EarlyStopping(monitor=monitor, \n",
    "                                          patience=patience,\n",
    "                                          restore_best_weights=True,\n",
    "                                          verbose=verbose)\n",
    "    \n",
    "    history = model.fit(X_train, train_l, \n",
    "              validation_data=(X_val, val_l),\n",
    "              epochs=epochs, \n",
    "              batch_size=batch_size, \n",
    "              shuffle=True,\n",
    "              callbacks=[es],\n",
    "              verbose=1)\n",
    "\n",
    "    plot_graphs(history, 'accuracy')\n",
    "    plot_graphs(history, 'loss')\n",
    "\n",
    "    cnn_predictions = (model.predict(X_test)> 0.5).astype(\"int32\")\n",
    "    print(\"Accuracy: %.2f%%\" % (accuracy_score(test_l, cnn_predictions)*100))\n",
    "    print(classification_report(test_l, cnn_predictions))\n",
    "    display(pd.DataFrame(confusion_matrix(test_l, cnn_predictions)))\n",
    "\n",
    "    return cnn_predictions"
   ]
  },
  {
   "cell_type": "code",
   "execution_count": 169,
   "id": "9d67bb14-3f3f-44e0-b753-3a3154dbad17",
   "metadata": {},
   "outputs": [
    {
     "name": "stdout",
     "output_type": "stream",
     "text": [
      "Epoch 1/10\n",
      "361/361 [==============================] - 20s 48ms/step - loss: 0.4167 - accuracy: 0.8004 - val_loss: 0.3084 - val_accuracy: 0.8706\n",
      "Epoch 2/10\n",
      "361/361 [==============================] - 6s 16ms/step - loss: 0.1473 - accuracy: 0.9445 - val_loss: 0.3759 - val_accuracy: 0.8597\n",
      "Epoch 3/10\n",
      "360/361 [============================>.] - ETA: 0s - loss: 0.0292 - accuracy: 0.9896Restoring model weights from the end of the best epoch: 1.\n",
      "361/361 [==============================] - 4s 11ms/step - loss: 0.0292 - accuracy: 0.9896 - val_loss: 0.5674 - val_accuracy: 0.8500\n",
      "Epoch 3: early stopping\n"
     ]
    },
    {
     "data": {
      "image/png": "[encoded data removed]",
      "text/plain": [
       "<Figure size 640x480 with 1 Axes>"
      ]
     },
     "metadata": {},
     "output_type": "display_data"
    },
    {
     "data": {
      "image/png": "[encoded data removed]",
      "text/plain": [
       "<Figure size 640x480 with 1 Axes>"
      ]
     },
     "metadata": {},
     "output_type": "display_data"
    },
    {
     "name": "stdout",
     "output_type": "stream",
     "text": [
      "90/90 [==============================] - 0s 1ms/step\n",
      "Accuracy: 85.79%\n",
      "              precision    recall  f1-score   support\n",
      "\n",
      "           0       0.90      0.83      0.86      1516\n",
      "           1       0.82      0.89      0.85      1335\n",
      "\n",
      "    accuracy                           0.86      2851\n",
      "   macro avg       0.86      0.86      0.86      2851\n",
      "weighted avg       0.86      0.86      0.86      2851\n",
      "\n"
     ]
    },
    {
     "data": {
      "text/html": [
       "<div>\n",
       "<style scoped>\n",
       "    .dataframe tbody tr th:only-of-type {\n",
       "        vertical-align: middle;\n",
       "    }\n",
       "\n",
       "    .dataframe tbody tr th {\n",
       "        vertical-align: top;\n",
       "    }\n",
       "\n",
       "    .dataframe thead th {\n",
       "        text-align: right;\n",
       "    }\n",
       "</style>\n",
       "<table border=\"1\" class=\"dataframe\">\n",
       "  <thead>\n",
       "    <tr style=\"text-align: right;\">\n",
       "      <th></th>\n",
       "      <th>0</th>\n",
       "      <th>1</th>\n",
       "    </tr>\n",
       "  </thead>\n",
       "  <tbody>\n",
       "    <tr>\n",
       "      <th>0</th>\n",
       "      <td>1256</td>\n",
       "      <td>260</td>\n",
       "    </tr>\n",
       "    <tr>\n",
       "      <th>1</th>\n",
       "      <td>145</td>\n",
       "      <td>1190</td>\n",
       "    </tr>\n",
       "  </tbody>\n",
       "</table>\n",
       "</div>"
      ],
      "text/plain": [
       "      0     1\n",
       "0  1256   260\n",
       "1   145  1190"
      ]
     },
     "metadata": {},
     "output_type": "display_data"
    }
   ],
   "source": [
    "cnn_predictions = model_training_evaluation()"
   ]
  },
  {
   "cell_type": "code",
   "execution_count": 178,
   "id": "1e907264-e44a-4b8e-8a80-d9f554f8f736",
   "metadata": {},
   "outputs": [
    {
     "name": "stdout",
     "output_type": "stream",
     "text": [
      "Model: \"sequential_7\"\n",
      "_________________________________________________________________\n",
      " Layer (type)                Output Shape              Param #   \n",
      "=================================================================\n",
      " embedding_5 (Embedding)     (None, 20, 300)           11287500  \n",
      "                                                                 \n",
      " conv1d_7 (Conv1D)           (None, 20, 10)            12010     \n",
      "                                                                 \n",
      " max_pooling1d_7 (MaxPoolin  (None, 10, 10)            0         \n",
      " g1D)                                                            \n",
      "                                                                 \n",
      " flatten_3 (Flatten)         (None, 100)               0         \n",
      "                                                                 \n",
      " dense_23 (Dense)            (None, 1)                 101       \n",
      "                                                                 \n",
      "=================================================================\n",
      "Total params: 11299611 (43.10 MB)\n",
      "Trainable params: 11299611 (43.10 MB)\n",
      "Non-trainable params: 0 (0.00 Byte)\n",
      "_________________________________________________________________\n"
     ]
    }
   ],
   "source": [
    "# a much simpler model\n",
    "model = tf.keras.models.Sequential()\n",
    "\n",
    "model.add(tf.keras.layers.Embedding(VOCAB_SIZE, EMBED_SIZE,\n",
    "                                    weights=[ft_embeddings], #use ft_embeddings here\n",
    "                                    trainable=True,\n",
    "                                    input_length=MAX_SEQUENCE_LENGTH))\n",
    "\n",
    "model.add(tf.keras.layers.Conv1D(filters=10, kernel_size=4, padding='same', activation='relu'))\n",
    "model.add(tf.keras.layers.MaxPooling1D(pool_size=2))\n",
    "\n",
    "model.add(tf.keras.layers.Flatten())\n",
    "\n",
    "model.add(tf.keras.layers.Dense(1, activation='sigmoid'))\n",
    "\n",
    "model.compile(loss='binary_crossentropy', optimizer='adam', metrics=['accuracy'])\n",
    "model.summary()"
   ]
  },
  {
   "cell_type": "code",
   "execution_count": 179,
   "id": "39536c7c-a73a-4be2-818c-0e7f68791d15",
   "metadata": {},
   "outputs": [
    {
     "name": "stdout",
     "output_type": "stream",
     "text": [
      "Epoch 1/10\n",
      "361/361 [==============================] - 3s 8ms/step - loss: 0.1517 - accuracy: 0.9411 - val_loss: 0.4316 - val_accuracy: 0.8527\n",
      "Epoch 2/10\n",
      "361/361 [==============================] - 3s 8ms/step - loss: 0.0307 - accuracy: 0.9890 - val_loss: 0.6247 - val_accuracy: 0.8402\n",
      "Epoch 3/10\n",
      "361/361 [==============================] - ETA: 0s - loss: 0.0125 - accuracy: 0.9957Restoring model weights from the end of the best epoch: 1.\n",
      "361/361 [==============================] - 3s 8ms/step - loss: 0.0125 - accuracy: 0.9957 - val_loss: 0.8937 - val_accuracy: 0.8418\n",
      "Epoch 3: early stopping\n"
     ]
    },
    {
     "data": {
      "image/png": "[encoded data removed]",
      "text/plain": [
       "<Figure size 640x480 with 1 Axes>"
      ]
     },
     "metadata": {},
     "output_type": "display_data"
    },
    {
     "data": {
      "image/png": "[encoded data removed]",
      "text/plain": [
       "<Figure size 640x480 with 1 Axes>"
      ]
     },
     "metadata": {},
     "output_type": "display_data"
    },
    {
     "name": "stdout",
     "output_type": "stream",
     "text": [
      "90/90 [==============================] - 0s 865us/step\n",
      "Accuracy: 84.74%\n",
      "              precision    recall  f1-score   support\n",
      "\n",
      "           0       0.87      0.84      0.85      1516\n",
      "           1       0.82      0.86      0.84      1335\n",
      "\n",
      "    accuracy                           0.85      2851\n",
      "   macro avg       0.85      0.85      0.85      2851\n",
      "weighted avg       0.85      0.85      0.85      2851\n",
      "\n"
     ]
    },
    {
     "data": {
      "text/html": [
       "<div>\n",
       "<style scoped>\n",
       "    .dataframe tbody tr th:only-of-type {\n",
       "        vertical-align: middle;\n",
       "    }\n",
       "\n",
       "    .dataframe tbody tr th {\n",
       "        vertical-align: top;\n",
       "    }\n",
       "\n",
       "    .dataframe thead th {\n",
       "        text-align: right;\n",
       "    }\n",
       "</style>\n",
       "<table border=\"1\" class=\"dataframe\">\n",
       "  <thead>\n",
       "    <tr style=\"text-align: right;\">\n",
       "      <th></th>\n",
       "      <th>0</th>\n",
       "      <th>1</th>\n",
       "    </tr>\n",
       "  </thead>\n",
       "  <tbody>\n",
       "    <tr>\n",
       "      <th>0</th>\n",
       "      <td>1271</td>\n",
       "      <td>245</td>\n",
       "    </tr>\n",
       "    <tr>\n",
       "      <th>1</th>\n",
       "      <td>190</td>\n",
       "      <td>1145</td>\n",
       "    </tr>\n",
       "  </tbody>\n",
       "</table>\n",
       "</div>"
      ],
      "text/plain": [
       "      0     1\n",
       "0  1271   245\n",
       "1   190  1145"
      ]
     },
     "metadata": {},
     "output_type": "display_data"
    },
    {
     "data": {
      "text/plain": [
       "array([[1],\n",
       "       [1],\n",
       "       [0],\n",
       "       ...,\n",
       "       [1],\n",
       "       [0],\n",
       "       [0]], dtype=int32)"
      ]
     },
     "execution_count": 179,
     "metadata": {},
     "output_type": "execute_result"
    }
   ],
   "source": [
    "model_training_evaluation()"
   ]
  },
  {
   "cell_type": "code",
   "execution_count": 180,
   "id": "ff72cfe3-e904-45f1-927c-717f2178664f",
   "metadata": {},
   "outputs": [
    {
     "name": "stdout",
     "output_type": "stream",
     "text": [
      "Model: \"sequential_8\"\n",
      "_________________________________________________________________\n",
      " Layer (type)                Output Shape              Param #   \n",
      "=================================================================\n",
      " embedding_layer (Embedding  (None, 20, 5)             188125    \n",
      " )                                                               \n",
      "                                                                 \n",
      " gru_2 (GRU)                 (None, 20, 64)            13632     \n",
      "                                                                 \n",
      " dense_24 (Dense)            (None, 20, 1)             65        \n",
      "                                                                 \n",
      "=================================================================\n",
      "Total params: 201822 (788.37 KB)\n",
      "Trainable params: 201822 (788.37 KB)\n",
      "Non-trainable params: 0 (0.00 Byte)\n",
      "_________________________________________________________________\n"
     ]
    }
   ],
   "source": [
    "#another much simpler model\n",
    "EMBEDDING_SIZE = 5\n",
    "\n",
    "model = Sequential()\n",
    "model.add(Embedding(input_dim = VOCAB_SIZE,\n",
    "                    output_dim=EMBEDDING_SIZE,\n",
    "                    input_length=MAX_SEQUENCE_LENGTH,\n",
    "                    name='embedding_layer'))\n",
    "model.add(GRU(units=64,return_sequences=True, kernel_regularizer = tf.keras.regularizers.l2(l=1.367675698620851e-05)))\n",
    "#model.add(Dense(16, activation=\"relu\"))\n",
    "model.add(Dense(1, activation='sigmoid'))\n",
    "\n",
    "model.summary()"
   ]
  },
  {
   "cell_type": "code",
   "execution_count": 181,
   "id": "9f3034ca-d78b-47eb-a00e-08e503ad3a1b",
   "metadata": {},
   "outputs": [
    {
     "name": "stdout",
     "output_type": "stream",
     "text": [
      "Epoch 1/10\n",
      "361/361 [==============================] - 3s 8ms/step - loss: 0.0325 - accuracy: 0.9887 - val_loss: 0.6789 - val_accuracy: 0.8484\n",
      "Epoch 2/10\n",
      "361/361 [==============================] - 3s 7ms/step - loss: 0.0117 - accuracy: 0.9958 - val_loss: 1.0619 - val_accuracy: 0.8465\n",
      "Epoch 3/10\n",
      "361/361 [==============================] - 3s 7ms/step - loss: 0.0082 - accuracy: 0.9970 - val_loss: 1.2615 - val_accuracy: 0.8437\n",
      "Epoch 4/10\n",
      "361/361 [==============================] - 2s 7ms/step - loss: 0.0080 - accuracy: 0.9973 - val_loss: 1.1613 - val_accuracy: 0.8465\n",
      "Epoch 5/10\n",
      "361/361 [==============================] - 3s 7ms/step - loss: 0.0068 - accuracy: 0.9978 - val_loss: 1.0191 - val_accuracy: 0.8445\n",
      "Epoch 6/10\n",
      "361/361 [==============================] - 2s 7ms/step - loss: 0.0060 - accuracy: 0.9980 - val_loss: 1.2493 - val_accuracy: 0.8453\n",
      "Epoch 7/10\n",
      "361/361 [==============================] - 3s 7ms/step - loss: 0.0036 - accuracy: 0.9988 - val_loss: 1.7735 - val_accuracy: 0.8414\n",
      "Epoch 8/10\n",
      "361/361 [==============================] - 3s 7ms/step - loss: 0.0038 - accuracy: 0.9987 - val_loss: 1.7957 - val_accuracy: 0.8441\n",
      "Epoch 9/10\n",
      "361/361 [==============================] - 3s 7ms/step - loss: 0.0041 - accuracy: 0.9988 - val_loss: 1.3220 - val_accuracy: 0.8414\n",
      "Epoch 10/10\n",
      "361/361 [==============================] - 2s 7ms/step - loss: 0.0043 - accuracy: 0.9986 - val_loss: 1.3508 - val_accuracy: 0.8468\n"
     ]
    },
    {
     "data": {
      "image/png": "[encoded data removed]",
      "text/plain": [
       "<Figure size 640x480 with 1 Axes>"
      ]
     },
     "metadata": {},
     "output_type": "display_data"
    },
    {
     "data": {
      "image/png": "[encoded data removed]",
      "text/plain": [
       "<Figure size 640x480 with 1 Axes>"
      ]
     },
     "metadata": {},
     "output_type": "display_data"
    },
    {
     "name": "stdout",
     "output_type": "stream",
     "text": [
      "90/90 [==============================] - 0s 932us/step\n",
      "Accuracy: 83.69%\n",
      "              precision    recall  f1-score   support\n",
      "\n",
      "           0       0.85      0.84      0.84      1516\n",
      "           1       0.82      0.84      0.83      1335\n",
      "\n",
      "    accuracy                           0.84      2851\n",
      "   macro avg       0.84      0.84      0.84      2851\n",
      "weighted avg       0.84      0.84      0.84      2851\n",
      "\n"
     ]
    },
    {
     "data": {
      "text/html": [
       "<div>\n",
       "<style scoped>\n",
       "    .dataframe tbody tr th:only-of-type {\n",
       "        vertical-align: middle;\n",
       "    }\n",
       "\n",
       "    .dataframe tbody tr th {\n",
       "        vertical-align: top;\n",
       "    }\n",
       "\n",
       "    .dataframe thead th {\n",
       "        text-align: right;\n",
       "    }\n",
       "</style>\n",
       "<table border=\"1\" class=\"dataframe\">\n",
       "  <thead>\n",
       "    <tr style=\"text-align: right;\">\n",
       "      <th></th>\n",
       "      <th>0</th>\n",
       "      <th>1</th>\n",
       "    </tr>\n",
       "  </thead>\n",
       "  <tbody>\n",
       "    <tr>\n",
       "      <th>0</th>\n",
       "      <td>1267</td>\n",
       "      <td>249</td>\n",
       "    </tr>\n",
       "    <tr>\n",
       "      <th>1</th>\n",
       "      <td>216</td>\n",
       "      <td>1119</td>\n",
       "    </tr>\n",
       "  </tbody>\n",
       "</table>\n",
       "</div>"
      ],
      "text/plain": [
       "      0     1\n",
       "0  1267   249\n",
       "1   216  1119"
      ]
     },
     "metadata": {},
     "output_type": "display_data"
    },
    {
     "data": {
      "text/plain": [
       "array([[1],\n",
       "       [1],\n",
       "       [0],\n",
       "       ...,\n",
       "       [1],\n",
       "       [0],\n",
       "       [0]], dtype=int32)"
      ]
     },
     "execution_count": 181,
     "metadata": {},
     "output_type": "execute_result"
    }
   ],
   "source": [
    "model_training_evaluation(patience=10)"
   ]
  },
  {
   "cell_type": "markdown",
   "id": "c399f724-f3a3-452d-8310-10942b76dd92",
   "metadata": {},
   "source": [
    "# 5) LSTM with NLP Aug"
   ]
  },
  {
   "cell_type": "code",
   "execution_count": 182,
   "id": "d43c06df-a33c-49ce-85dd-70d2f912ec10",
   "metadata": {},
   "outputs": [
    {
     "name": "stdout",
     "output_type": "stream",
     "text": [
      "Model: \"sequential_9\"\n",
      "_________________________________________________________________\n",
      " Layer (type)                Output Shape              Param #   \n",
      "=================================================================\n",
      " embedding_6 (Embedding)     (None, 20, 300)           11287500  \n",
      "                                                                 \n",
      " spatial_dropout1d_2 (Spati  (None, 20, 300)           0         \n",
      " alDropout1D)                                                    \n",
      "                                                                 \n",
      " lstm_2 (LSTM)               (None, 128)               219648    \n",
      "                                                                 \n",
      " dense_25 (Dense)            (None, 256)               33024     \n",
      "                                                                 \n",
      " dense_26 (Dense)            (None, 1)                 257       \n",
      "                                                                 \n",
      "=================================================================\n",
      "Total params: 11540429 (44.02 MB)\n",
      "Trainable params: 11540429 (44.02 MB)\n",
      "Non-trainable params: 0 (0.00 Byte)\n",
      "_________________________________________________________________\n"
     ]
    }
   ],
   "source": [
    "VOCAB_SIZE = len(t.word_index)\n",
    "EMBEDDING_DIM = 300 # dimension for dense embeddings for each token\n",
    "LSTM_DIM = 128 # the number of hidden units in each LSTM cell; total LSTM cells = sequence length (num of tokens)\n",
    "\n",
    "model = tf.keras.models.Sequential()\n",
    "\n",
    "model.add(tf.keras.layers.Embedding(input_dim=VOCAB_SIZE, \n",
    "                                    output_dim=EMBEDDING_DIM, \n",
    "                                    input_length=MAX_SEQUENCE_LENGTH))\n",
    "\n",
    "model.add(tf.keras.layers.SpatialDropout1D(0.1)) #optional\n",
    "\n",
    "model.add(tf.keras.layers.LSTM(LSTM_DIM, return_sequences=False))\n",
    "\n",
    "model.add(tf.keras.layers.Dense(256, activation='relu'))\n",
    "\n",
    "model.add(tf.keras.layers.Dense(1, activation=\"sigmoid\"))\n",
    "\n",
    "model.compile(loss=\"binary_crossentropy\", optimizer=\"adam\",\n",
    "              metrics=[\"accuracy\"])\n",
    "model.summary()"
   ]
  },
  {
   "cell_type": "code",
   "execution_count": 183,
   "id": "72ba7baa-b6a0-4620-95c5-d98f4ccc04d7",
   "metadata": {},
   "outputs": [
    {
     "name": "stdout",
     "output_type": "stream",
     "text": [
      "Epoch 1/10\n",
      "361/361 [==============================] - 3s 7ms/step - loss: 0.0043 - accuracy: 0.9988 - val_loss: 1.3547 - val_accuracy: 0.8394\n",
      "Epoch 2/10\n",
      "361/361 [==============================] - 2s 6ms/step - loss: 0.0031 - accuracy: 0.9991 - val_loss: 1.3591 - val_accuracy: 0.8383\n",
      "Epoch 3/10\n",
      "361/361 [==============================] - ETA: 0s - loss: 0.0031 - accuracy: 0.9989Restoring model weights from the end of the best epoch: 1.\n",
      "361/361 [==============================] - 2s 7ms/step - loss: 0.0031 - accuracy: 0.9989 - val_loss: 1.7751 - val_accuracy: 0.8496\n",
      "Epoch 3: early stopping\n"
     ]
    },
    {
     "data": {
      "image/png": "[encoded data removed]",
      "text/plain": [
       "<Figure size 640x480 with 1 Axes>"
      ]
     },
     "metadata": {},
     "output_type": "display_data"
    },
    {
     "data": {
      "image/png": "[encoded data removed]",
      "text/plain": [
       "<Figure size 640x480 with 1 Axes>"
      ]
     },
     "metadata": {},
     "output_type": "display_data"
    },
    {
     "name": "stdout",
     "output_type": "stream",
     "text": [
      "90/90 [==============================] - 0s 1ms/step\n",
      "Accuracy: 83.34%\n",
      "              precision    recall  f1-score   support\n",
      "\n",
      "           0       0.83      0.87      0.85      1516\n",
      "           1       0.84      0.79      0.82      1335\n",
      "\n",
      "    accuracy                           0.83      2851\n",
      "   macro avg       0.83      0.83      0.83      2851\n",
      "weighted avg       0.83      0.83      0.83      2851\n",
      "\n"
     ]
    },
    {
     "data": {
      "text/html": [
       "<div>\n",
       "<style scoped>\n",
       "    .dataframe tbody tr th:only-of-type {\n",
       "        vertical-align: middle;\n",
       "    }\n",
       "\n",
       "    .dataframe tbody tr th {\n",
       "        vertical-align: top;\n",
       "    }\n",
       "\n",
       "    .dataframe thead th {\n",
       "        text-align: right;\n",
       "    }\n",
       "</style>\n",
       "<table border=\"1\" class=\"dataframe\">\n",
       "  <thead>\n",
       "    <tr style=\"text-align: right;\">\n",
       "      <th></th>\n",
       "      <th>0</th>\n",
       "      <th>1</th>\n",
       "    </tr>\n",
       "  </thead>\n",
       "  <tbody>\n",
       "    <tr>\n",
       "      <th>0</th>\n",
       "      <td>1317</td>\n",
       "      <td>199</td>\n",
       "    </tr>\n",
       "    <tr>\n",
       "      <th>1</th>\n",
       "      <td>276</td>\n",
       "      <td>1059</td>\n",
       "    </tr>\n",
       "  </tbody>\n",
       "</table>\n",
       "</div>"
      ],
      "text/plain": [
       "      0     1\n",
       "0  1317   199\n",
       "1   276  1059"
      ]
     },
     "metadata": {},
     "output_type": "display_data"
    }
   ],
   "source": [
    "lstm_predictions = model_training_evaluation()"
   ]
  },
  {
   "cell_type": "code",
   "execution_count": 184,
   "id": "66df8002-f43c-48ff-a8fd-49dc316a820e",
   "metadata": {},
   "outputs": [
    {
     "name": "stdout",
     "output_type": "stream",
     "text": [
      "Model: \"sequential_10\"\n",
      "_________________________________________________________________\n",
      " Layer (type)                Output Shape              Param #   \n",
      "=================================================================\n",
      " embedding_7 (Embedding)     (None, 20, 105)           3950625   \n",
      "                                                                 \n",
      " spatial_dropout1d_3 (Spati  (None, 20, 105)           0         \n",
      " alDropout1D)                                                    \n",
      "                                                                 \n",
      " lstm_3 (LSTM)               (None, 85)                64940     \n",
      "                                                                 \n",
      " dense_27 (Dense)            (None, 81)                6966      \n",
      "                                                                 \n",
      " dropout_87 (Dropout)        (None, 81)                0         \n",
      "                                                                 \n",
      " dense_28 (Dense)            (None, 108)               8856      \n",
      "                                                                 \n",
      " dropout_88 (Dropout)        (None, 108)               0         \n",
      "                                                                 \n",
      " dense_29 (Dense)            (None, 53)                5777      \n",
      "                                                                 \n",
      " dropout_89 (Dropout)        (None, 53)                0         \n",
      "                                                                 \n",
      " dense_30 (Dense)            (None, 109)               5886      \n",
      "                                                                 \n",
      " dropout_90 (Dropout)        (None, 109)               0         \n",
      "                                                                 \n",
      " dense_31 (Dense)            (None, 41)                4510      \n",
      "                                                                 \n",
      " dropout_91 (Dropout)        (None, 41)                0         \n",
      "                                                                 \n",
      " dense_32 (Dense)            (None, 1)                 42        \n",
      "                                                                 \n",
      "=================================================================\n",
      "Total params: 4047602 (15.44 MB)\n",
      "Trainable params: 4047602 (15.44 MB)\n",
      "Non-trainable params: 0 (0.00 Byte)\n",
      "_________________________________________________________________\n"
     ]
    }
   ],
   "source": [
    "#Implement best model\n",
    "model = tf.keras.models.Sequential()\n",
    "\n",
    "model.add(tf.keras.layers.Embedding(input_dim=VOCAB_SIZE, \n",
    "                                    output_dim=105, \n",
    "                                    input_length=MAX_SEQUENCE_LENGTH))\n",
    "\n",
    "model.add(tf.keras.layers.SpatialDropout1D(0.6)) #optional\n",
    "\n",
    "model.add(tf.keras.layers.LSTM(85, return_sequences=False))\n",
    "\n",
    "model.add(tf.keras.layers.Dense(81, activation='relu'))\n",
    "model.add(tf.keras.layers.Dropout(rate = 0.4)) \n",
    "model.add(tf.keras.layers.Dense(108, activation='relu'))\n",
    "model.add(tf.keras.layers.Dropout(rate = 0.1)) \n",
    "model.add(tf.keras.layers.Dense(53, activation='relu'))\n",
    "model.add(tf.keras.layers.Dropout(rate = 0.4)) \n",
    "\n",
    "model.add(tf.keras.layers.Dense(109, activation='swish'))\n",
    "model.add(tf.keras.layers.Dropout(rate = 0.4)) \n",
    "model.add(tf.keras.layers.Dense(41, activation='swish'))\n",
    "model.add(tf.keras.layers.Dropout(rate = 0.4)) \n",
    "\n",
    "model.add(tf.keras.layers.Dense(1, activation=\"sigmoid\"))\n",
    "\n",
    "model.compile(loss=\"binary_crossentropy\", optimizer=\"adam\",\n",
    "              metrics=[\"accuracy\"])\n",
    "model.summary()"
   ]
  },
  {
   "cell_type": "code",
   "execution_count": 185,
   "id": "5bc16ade-897f-4372-bc4a-905016731a0e",
   "metadata": {},
   "outputs": [
    {
     "name": "stdout",
     "output_type": "stream",
     "text": [
      "Epoch 1/27\n",
      "2882/2882 [==============================] - 28s 9ms/step - loss: 0.4761 - accuracy: 0.7759 - val_loss: 0.3426 - val_accuracy: 0.8472 - lr: 0.0010\n",
      "Epoch 2/27\n",
      "2882/2882 [==============================] - 16s 6ms/step - loss: 0.2722 - accuracy: 0.8932 - val_loss: 0.3566 - val_accuracy: 0.8484 - lr: 0.0010\n",
      "Epoch 3/27\n",
      "2882/2882 [==============================] - 16s 6ms/step - loss: 0.1391 - accuracy: 0.9498 - val_loss: 0.3993 - val_accuracy: 0.8480 - lr: 1.0000e-04\n",
      "Epoch 4/27\n",
      "2882/2882 [==============================] - 16s 5ms/step - loss: 0.1235 - accuracy: 0.9579 - val_loss: 0.4192 - val_accuracy: 0.8492 - lr: 1.0000e-05\n",
      "Epoch 5/27\n",
      "2882/2882 [==============================] - 16s 5ms/step - loss: 0.1225 - accuracy: 0.9571 - val_loss: 0.4242 - val_accuracy: 0.8496 - lr: 1.0000e-05\n",
      "Epoch 6/27\n",
      "2882/2882 [==============================] - 16s 5ms/step - loss: 0.1199 - accuracy: 0.9577 - val_loss: 0.4235 - val_accuracy: 0.8488 - lr: 1.0000e-05\n"
     ]
    }
   ],
   "source": [
    "val_ds = (X_val, val_l)\n",
    "reduce_lr = ReduceLROnPlateau(monitor='val_loss', factor=0.1,patience=1,min_lr=1e-05,verbose=0)\n",
    "early_stoping = EarlyStopping(monitor=\"val_loss\",min_delta=0,patience=5,verbose=0,mode=\"auto\", baseline=None,restore_best_weights=True)\n",
    "\n",
    "histroy = model.fit(X_train, train_l, validation_data=val_ds,epochs=27,callbacks=[reduce_lr,early_stoping],verbose=1,\n",
    "                    batch_size=16)"
   ]
  },
  {
   "cell_type": "code",
   "execution_count": 186,
   "id": "c67d7519-5b00-4a47-810e-357ff3e46cec",
   "metadata": {},
   "outputs": [
    {
     "data": {
      "image/png": "[encoded data removed]",
      "text/plain": [
       "<Figure size 640x480 with 1 Axes>"
      ]
     },
     "metadata": {},
     "output_type": "display_data"
    },
    {
     "data": {
      "image/png": "[encoded data removed]",
      "text/plain": [
       "<Figure size 640x480 with 1 Axes>"
      ]
     },
     "metadata": {},
     "output_type": "display_data"
    }
   ],
   "source": [
    "history = histroy\n",
    "\n",
    "def plot_graphs(history, string):\n",
    "    plt.plot(history.history[string])\n",
    "    plt.plot(history.history['val_'+string])\n",
    "    plt.xlabel(\"Epochs\")\n",
    "    plt.ylabel(string)\n",
    "    plt.legend([string, 'val_'+string])\n",
    "    plt.show()\n",
    "\n",
    "plot_graphs(history, 'accuracy')\n",
    "plot_graphs(history, 'loss')"
   ]
  },
  {
   "cell_type": "code",
   "execution_count": 187,
   "id": "1fa71227-d5ce-45ac-992f-38bead57cd26",
   "metadata": {},
   "outputs": [
    {
     "name": "stdout",
     "output_type": "stream",
     "text": [
      "90/90 [==============================] - 0s 2ms/step\n",
      "Accuracy: 85.13%\n",
      "              precision    recall  f1-score   support\n",
      "\n",
      "           0       0.87      0.85      0.86      1516\n",
      "           1       0.83      0.85      0.84      1335\n",
      "\n",
      "    accuracy                           0.85      2851\n",
      "   macro avg       0.85      0.85      0.85      2851\n",
      "weighted avg       0.85      0.85      0.85      2851\n",
      "\n"
     ]
    },
    {
     "data": {
      "text/html": [
       "<div>\n",
       "<style scoped>\n",
       "    .dataframe tbody tr th:only-of-type {\n",
       "        vertical-align: middle;\n",
       "    }\n",
       "\n",
       "    .dataframe tbody tr th {\n",
       "        vertical-align: top;\n",
       "    }\n",
       "\n",
       "    .dataframe thead th {\n",
       "        text-align: right;\n",
       "    }\n",
       "</style>\n",
       "<table border=\"1\" class=\"dataframe\">\n",
       "  <thead>\n",
       "    <tr style=\"text-align: right;\">\n",
       "      <th></th>\n",
       "      <th>0</th>\n",
       "      <th>1</th>\n",
       "    </tr>\n",
       "  </thead>\n",
       "  <tbody>\n",
       "    <tr>\n",
       "      <th>0</th>\n",
       "      <td>1289</td>\n",
       "      <td>227</td>\n",
       "    </tr>\n",
       "    <tr>\n",
       "      <th>1</th>\n",
       "      <td>197</td>\n",
       "      <td>1138</td>\n",
       "    </tr>\n",
       "  </tbody>\n",
       "</table>\n",
       "</div>"
      ],
      "text/plain": [
       "      0     1\n",
       "0  1289   227\n",
       "1   197  1138"
      ]
     },
     "metadata": {},
     "output_type": "display_data"
    }
   ],
   "source": [
    "    cnn_predictions = (model.predict(X_test)> 0.5).astype(\"int32\")\n",
    "    print(\"Accuracy: %.2f%%\" % (accuracy_score(test_l, cnn_predictions)*100))\n",
    "    print(classification_report(test_l, cnn_predictions))\n",
    "    display(pd.DataFrame(confusion_matrix(test_l, cnn_predictions)))"
   ]
  },
  {
   "cell_type": "markdown",
   "id": "78f1a16f-bb1a-442a-b37c-54c9f7ccc4bd",
   "metadata": {},
   "source": [
    "# 6) BERT with NLP Aug"
   ]
  },
  {
   "cell_type": "code",
   "execution_count": 170,
   "id": "ef0efa2a-c26e-43be-8500-259cb6216f1a",
   "metadata": {},
   "outputs": [],
   "source": [
    "tokenizer = transformers.BertTokenizer.from_pretrained('bert-base-uncased')"
   ]
  },
  {
   "cell_type": "code",
   "execution_count": 171,
   "id": "1893185f-395f-4491-abc4-6a6110239d5a",
   "metadata": {},
   "outputs": [],
   "source": [
    "def create_bert_input_features(tokenizer, docs, max_seq_length):\n",
    "    \n",
    "    all_ids, all_masks, all_segments= [], [], []\n",
    "    for doc in docs:\n",
    "        \n",
    "        tokens = tokenizer.tokenize(doc)\n",
    "        \n",
    "        if len(tokens) > max_seq_length-2:\n",
    "            tokens = tokens[0 : (max_seq_length-2)]\n",
    "        tokens = ['[CLS]'] + tokens + ['[SEP]']\n",
    "        ids = tokenizer.convert_tokens_to_ids(tokens)\n",
    "        masks = [1] * len(ids) # [1,1,1.....] # 500 ones\n",
    "        \n",
    "        # Zero-pad up to the sequence length.\n",
    "        while len(ids) < max_seq_length:\n",
    "            ids.append(0)\n",
    "            masks.append(0)\n",
    "            \n",
    "        segments = [0] * max_seq_length # [0,0,0...] # 500 zeros\n",
    "        all_ids.append(ids)\n",
    "        all_masks.append(masks)\n",
    "        all_segments.append(segments)\n",
    "        \n",
    "    encoded = np.array([all_ids, all_masks, all_segments])\n",
    "    \n",
    "    return encoded"
   ]
  },
  {
   "cell_type": "code",
   "execution_count": 172,
   "id": "9a05cbc6-396a-476a-a637-06a5cf69d07e",
   "metadata": {},
   "outputs": [
    {
     "name": "stdout",
     "output_type": "stream",
     "text": [
      "Train Features: (46111, 20) (46111, 20) (46111, 20)\n",
      "Val Features: (2566, 20) (2566, 20) (2566, 20)\n"
     ]
    }
   ],
   "source": [
    "MAX_SEQ_LENGTH = 20\n",
    "\n",
    "inp_id = tf.keras.layers.Input(shape=(MAX_SEQ_LENGTH,), dtype='int32', name=\"bert_input_ids\")\n",
    "inp_mask = tf.keras.layers.Input(shape=(MAX_SEQ_LENGTH,), dtype='int32', name=\"bert_input_masks\")\n",
    "inp_segment = tf.keras.layers.Input(shape=(MAX_SEQ_LENGTH,), dtype='int32', name=\"bert_segment_ids\")\n",
    "\n",
    "train_features_ids, train_features_masks, train_features_segments = create_bert_input_features(tokenizer, \n",
    "                                                                                               train_hl, \n",
    "                                                                                               max_seq_length=MAX_SEQ_LENGTH)\n",
    "\n",
    "val_features_ids, val_features_masks, val_features_segments = create_bert_input_features(tokenizer, \n",
    "                                                                                         val_hl, \n",
    "                                                                                         max_seq_length=MAX_SEQ_LENGTH)\n",
    "#test_features = create_bert_input_features(tokenizer, test_reviews, max_seq_length=MAX_SEQ_LENGTH)\n",
    "print('Train Features:', train_features_ids.shape, train_features_masks.shape, train_features_segments.shape)\n",
    "print('Val Features:', val_features_ids.shape, val_features_masks.shape, val_features_segments.shape)"
   ]
  },
  {
   "cell_type": "code",
   "execution_count": 173,
   "id": "4d0128d9-aca9-4918-b9a7-66572a18e86c",
   "metadata": {},
   "outputs": [
    {
     "name": "stderr",
     "output_type": "stream",
     "text": [
      "Some weights of the PyTorch model were not used when initializing the TF 2.0 model TFBertModel: ['cls.predictions.transform.dense.weight', 'cls.seq_relationship.weight', 'cls.predictions.transform.dense.bias', 'cls.predictions.bias', 'cls.predictions.transform.LayerNorm.bias', 'cls.predictions.transform.LayerNorm.weight', 'cls.seq_relationship.bias']\n",
      "- This IS expected if you are initializing TFBertModel from a PyTorch model trained on another task or with another architecture (e.g. initializing a TFBertForSequenceClassification model from a BertForPreTraining model).\n",
      "- This IS NOT expected if you are initializing TFBertModel from a PyTorch model that you expect to be exactly identical (e.g. initializing a TFBertForSequenceClassification model from a BertForSequenceClassification model).\n",
      "All the weights of TFBertModel were initialized from the PyTorch model.\n",
      "If your task is similar to the task the model of the checkpoint was trained on, you can already use TFBertModel for predictions without further training.\n"
     ]
    },
    {
     "name": "stdout",
     "output_type": "stream",
     "text": [
      "Model: \"model_1\"\n",
      "__________________________________________________________________________________________________\n",
      " Layer (type)                Output Shape                 Param #   Connected to                  \n",
      "==================================================================================================\n",
      " bert_input_ids (InputLayer  [(None, 20)]                 0         []                            \n",
      " )                                                                                                \n",
      "                                                                                                  \n",
      " bert_input_masks (InputLay  [(None, 20)]                 0         []                            \n",
      " er)                                                                                              \n",
      "                                                                                                  \n",
      " bert_segment_ids (InputLay  [(None, 20)]                 0         []                            \n",
      " er)                                                                                              \n",
      "                                                                                                  \n",
      " tf_bert_model_1 (TFBertMod  TFBaseModelOutputWithPooli   1094822   ['bert_input_ids[0][0]',      \n",
      " el)                         ngAndCrossAttentions(last_   40         'bert_input_masks[0][0]',    \n",
      "                             hidden_state=(None, 20, 76              'bert_segment_ids[0][0]']    \n",
      "                             8),                                                                  \n",
      "                              pooler_output=(None, 768)                                           \n",
      "                             , past_key_values=None, hi                                           \n",
      "                             dden_states=None, attentio                                           \n",
      "                             ns=None, cross_attentions=                                           \n",
      "                             None)                                                                \n",
      "                                                                                                  \n",
      " dense_20 (Dense)            (None, 256)                  196864    ['tf_bert_model_1[0][1]']     \n",
      "                                                                                                  \n",
      " dropout_85 (Dropout)        (None, 256)                  0         ['dense_20[0][0]']            \n",
      "                                                                                                  \n",
      " dense_21 (Dense)            (None, 256)                  65792     ['dropout_85[0][0]']          \n",
      "                                                                                                  \n",
      " dropout_86 (Dropout)        (None, 256)                  0         ['dense_21[0][0]']            \n",
      "                                                                                                  \n",
      " dense_22 (Dense)            (None, 1)                    257       ['dropout_86[0][0]']          \n",
      "                                                                                                  \n",
      "==================================================================================================\n",
      "Total params: 109745153 (418.64 MB)\n",
      "Trainable params: 109745153 (418.64 MB)\n",
      "Non-trainable params: 0 (0.00 Byte)\n",
      "__________________________________________________________________________________________________\n"
     ]
    }
   ],
   "source": [
    "#build the model\n",
    "\n",
    "inputs = [inp_id, inp_mask, inp_segment]\n",
    "\n",
    "hidden_state = transformers.TFBertModel.from_pretrained('bert-base-uncased')(inputs)\n",
    "pooled_output = hidden_state[1]\n",
    "\n",
    "dense1 = tf.keras.layers.Dense(256, activation='relu')(pooled_output)\n",
    "drop1 = tf.keras.layers.Dropout(0.25)(dense1)\n",
    "dense2 = tf.keras.layers.Dense(256, activation='relu')(drop1)\n",
    "drop2 = tf.keras.layers.Dropout(0.25)(dense2)\n",
    "\n",
    "output = tf.keras.layers.Dense(1, activation='sigmoid')(drop2)\n",
    "\n",
    "model = tf.keras.Model(inputs=inputs, outputs=output)\n",
    "\n",
    "model.compile(optimizer=tf.optimizers.Adam(learning_rate=2e-5, \n",
    "                                           epsilon=1e-08), \n",
    "              loss='binary_crossentropy', metrics=['accuracy'])\n",
    "\n",
    "model.summary()"
   ]
  },
  {
   "cell_type": "code",
   "execution_count": 174,
   "id": "b5dd8866-ff37-4804-bdf7-5775cd45f622",
   "metadata": {},
   "outputs": [
    {
     "name": "stdout",
     "output_type": "stream",
     "text": [
      "Epoch 1/15\n",
      "1441/1441 [==============================] - 164s 98ms/step - loss: 0.4049 - accuracy: 0.8081 - val_loss: 0.2928 - val_accuracy: 0.8862\n",
      "Epoch 2/15\n",
      "1441/1441 [==============================] - 136s 94ms/step - loss: 0.2398 - accuracy: 0.8996 - val_loss: 0.2269 - val_accuracy: 0.9147\n",
      "Epoch 3/15\n",
      "1441/1441 [==============================] - 136s 94ms/step - loss: 0.1267 - accuracy: 0.9509 - val_loss: 0.2797 - val_accuracy: 0.9147\n",
      "Epoch 4/15\n",
      "1441/1441 [==============================] - ETA: 0s - loss: 0.0611 - accuracy: 0.9775Restoring model weights from the end of the best epoch: 2.\n",
      "1441/1441 [==============================] - 136s 94ms/step - loss: 0.0611 - accuracy: 0.9775 - val_loss: 0.3431 - val_accuracy: 0.9123\n",
      "Epoch 4: early stopping\n"
     ]
    }
   ],
   "source": [
    "es = tf.keras.callbacks.EarlyStopping(monitor='val_loss', \n",
    "                                      patience=2,\n",
    "                                      restore_best_weights=True,\n",
    "                                      verbose=1)\n",
    "history = model.fit([train_features_ids, \n",
    "           train_features_masks, \n",
    "           train_features_segments], train_l, \n",
    "          validation_data=([val_features_ids, \n",
    "                            val_features_masks, \n",
    "                            val_features_segments], val_l),\n",
    "          epochs=15, \n",
    "          batch_size=32, \n",
    "          callbacks=[es],\n",
    "          shuffle=True,\n",
    "          verbose=1)"
   ]
  },
  {
   "cell_type": "code",
   "execution_count": 175,
   "id": "fb1eebf6-6c34-43f4-8d04-4b7eb44bd675",
   "metadata": {},
   "outputs": [
    {
     "data": {
      "image/png": "[encoded data removed]",
      "text/plain": [
       "<Figure size 640x480 with 1 Axes>"
      ]
     },
     "metadata": {},
     "output_type": "display_data"
    },
    {
     "data": {
      "image/png": "[encoded data removed]",
      "text/plain": [
       "<Figure size 640x480 with 1 Axes>"
      ]
     },
     "metadata": {},
     "output_type": "display_data"
    }
   ],
   "source": [
    "plot_graphs(history, 'accuracy')\n",
    "plot_graphs(history, 'loss')"
   ]
  },
  {
   "cell_type": "code",
   "execution_count": 176,
   "id": "47efdfb4-35d5-4154-9b4b-2c82375141c8",
   "metadata": {},
   "outputs": [
    {
     "name": "stdout",
     "output_type": "stream",
     "text": [
      "Test Features: (2851, 20) (2851, 20) (2851, 20)\n"
     ]
    }
   ],
   "source": [
    "test_features_ids, test_features_masks, test_features_segments = create_bert_input_features(tokenizer, \n",
    "                                                                                            test_hl, \n",
    "                                                                                            max_seq_length=MAX_SEQ_LENGTH)\n",
    "print('Test Features:', test_features_ids.shape, test_features_masks.shape, test_features_segments.shape)"
   ]
  },
  {
   "cell_type": "code",
   "execution_count": 177,
   "id": "352ecabe-bebc-43df-ad47-3bde52fabf6f",
   "metadata": {},
   "outputs": [
    {
     "name": "stdout",
     "output_type": "stream",
     "text": [
      "Accuracy: 92.56%\n",
      "              precision    recall  f1-score   support\n",
      "\n",
      "           0       0.95      0.91      0.93      1516\n",
      "           1       0.90      0.94      0.92      1335\n",
      "\n",
      "    accuracy                           0.93      2851\n",
      "   macro avg       0.93      0.93      0.93      2851\n",
      "weighted avg       0.93      0.93      0.93      2851\n",
      "\n"
     ]
    },
    {
     "data": {
      "text/html": [
       "<div>\n",
       "<style scoped>\n",
       "    .dataframe tbody tr th:only-of-type {\n",
       "        vertical-align: middle;\n",
       "    }\n",
       "\n",
       "    .dataframe tbody tr th {\n",
       "        vertical-align: top;\n",
       "    }\n",
       "\n",
       "    .dataframe thead th {\n",
       "        text-align: right;\n",
       "    }\n",
       "</style>\n",
       "<table border=\"1\" class=\"dataframe\">\n",
       "  <thead>\n",
       "    <tr style=\"text-align: right;\">\n",
       "      <th></th>\n",
       "      <th>0</th>\n",
       "      <th>1</th>\n",
       "    </tr>\n",
       "  </thead>\n",
       "  <tbody>\n",
       "    <tr>\n",
       "      <th>0</th>\n",
       "      <td>1380</td>\n",
       "      <td>136</td>\n",
       "    </tr>\n",
       "    <tr>\n",
       "      <th>1</th>\n",
       "      <td>76</td>\n",
       "      <td>1259</td>\n",
       "    </tr>\n",
       "  </tbody>\n",
       "</table>\n",
       "</div>"
      ],
      "text/plain": [
       "      0     1\n",
       "0  1380   136\n",
       "1    76  1259"
      ]
     },
     "execution_count": 177,
     "metadata": {},
     "output_type": "execute_result"
    }
   ],
   "source": [
    "\n",
    "bert_predictions = [1 if pr > 0.5 else 0 \n",
    "                   for pr in model.predict([test_features_ids, \n",
    "                                            test_features_masks, \n",
    "                                            test_features_segments], verbose=0).ravel()]\n",
    "\n",
    "print(\"Accuracy: %.2f%%\" % (accuracy_score(test_l, bert_predictions)*100))\n",
    "print(classification_report(test_l, bert_predictions))\n",
    "pd.DataFrame(confusion_matrix(test_l, bert_predictions))"
   ]
  },
  {
   "cell_type": "markdown",
   "id": "0f5497cf-5da8-4b72-bd0a-47c11686ac78",
   "metadata": {},
   "source": [
    "# 6) Bert with easy augment"
   ]
  },
  {
   "cell_type": "code",
   "execution_count": 284,
   "id": "4bd54a6d-db11-494d-bce8-0d74954e1ab3",
   "metadata": {},
   "outputs": [],
   "source": [
    "train_hl = train_hl_p_eag\n",
    "train_l = train_l_eag"
   ]
  },
  {
   "cell_type": "code",
   "execution_count": 285,
   "id": "cd0e71cd-b485-46bb-9503-fd152de8baf6",
   "metadata": {},
   "outputs": [],
   "source": [
    "tokenizer = transformers.BertTokenizer.from_pretrained('bert-base-uncased')"
   ]
  },
  {
   "cell_type": "code",
   "execution_count": 286,
   "id": "21b4af65-5f2b-41ee-ac84-e4af4871c702",
   "metadata": {},
   "outputs": [],
   "source": [
    "def create_bert_input_features(tokenizer, docs, max_seq_length):\n",
    "    \n",
    "    all_ids, all_masks, all_segments= [], [], []\n",
    "    for doc in docs:\n",
    "        \n",
    "        tokens = tokenizer.tokenize(doc)\n",
    "        \n",
    "        if len(tokens) > max_seq_length-2:\n",
    "            tokens = tokens[0 : (max_seq_length-2)]\n",
    "        tokens = ['[CLS]'] + tokens + ['[SEP]']\n",
    "        ids = tokenizer.convert_tokens_to_ids(tokens)\n",
    "        masks = [1] * len(ids) # [1,1,1.....] # 500 ones\n",
    "        \n",
    "        # Zero-pad up to the sequence length.\n",
    "        while len(ids) < max_seq_length:\n",
    "            ids.append(0)\n",
    "            masks.append(0)\n",
    "            \n",
    "        segments = [0] * max_seq_length # [0,0,0...] # 500 zeros\n",
    "        all_ids.append(ids)\n",
    "        all_masks.append(masks)\n",
    "        all_segments.append(segments)\n",
    "        \n",
    "    encoded = np.array([all_ids, all_masks, all_segments])\n",
    "    \n",
    "    return encoded"
   ]
  },
  {
   "cell_type": "code",
   "execution_count": 287,
   "id": "8f6c2d13-a949-48a9-b3c8-479618382bdc",
   "metadata": {},
   "outputs": [
    {
     "name": "stdout",
     "output_type": "stream",
     "text": [
      "Train Features: (46100, 20) (46100, 20) (46100, 20)\n",
      "Val Features: (2566, 20) (2566, 20) (2566, 20)\n"
     ]
    }
   ],
   "source": [
    "MAX_SEQ_LENGTH = 20\n",
    "\n",
    "inp_id = tf.keras.layers.Input(shape=(MAX_SEQ_LENGTH,), dtype='int32', name=\"bert_input_ids\")\n",
    "inp_mask = tf.keras.layers.Input(shape=(MAX_SEQ_LENGTH,), dtype='int32', name=\"bert_input_masks\")\n",
    "inp_segment = tf.keras.layers.Input(shape=(MAX_SEQ_LENGTH,), dtype='int32', name=\"bert_segment_ids\")\n",
    "\n",
    "train_features_ids, train_features_masks, train_features_segments = create_bert_input_features(tokenizer, \n",
    "                                                                                               train_hl, \n",
    "                                                                                               max_seq_length=MAX_SEQ_LENGTH)\n",
    "\n",
    "val_features_ids, val_features_masks, val_features_segments = create_bert_input_features(tokenizer, \n",
    "                                                                                         val_hl, \n",
    "                                                                                         max_seq_length=MAX_SEQ_LENGTH)\n",
    "#test_features = create_bert_input_features(tokenizer, test_reviews, max_seq_length=MAX_SEQ_LENGTH)\n",
    "print('Train Features:', train_features_ids.shape, train_features_masks.shape, train_features_segments.shape)\n",
    "print('Val Features:', val_features_ids.shape, val_features_masks.shape, val_features_segments.shape)"
   ]
  },
  {
   "cell_type": "code",
   "execution_count": 288,
   "id": "55509767-4697-40e7-b01b-e1c03523cfec",
   "metadata": {},
   "outputs": [
    {
     "name": "stderr",
     "output_type": "stream",
     "text": [
      "Some weights of the PyTorch model were not used when initializing the TF 2.0 model TFBertModel: ['cls.predictions.transform.dense.weight', 'cls.seq_relationship.weight', 'cls.predictions.transform.dense.bias', 'cls.predictions.bias', 'cls.predictions.transform.LayerNorm.bias', 'cls.predictions.transform.LayerNorm.weight', 'cls.seq_relationship.bias']\n",
      "- This IS expected if you are initializing TFBertModel from a PyTorch model trained on another task or with another architecture (e.g. initializing a TFBertForSequenceClassification model from a BertForPreTraining model).\n",
      "- This IS NOT expected if you are initializing TFBertModel from a PyTorch model that you expect to be exactly identical (e.g. initializing a TFBertForSequenceClassification model from a BertForSequenceClassification model).\n",
      "All the weights of TFBertModel were initialized from the PyTorch model.\n",
      "If your task is similar to the task the model of the checkpoint was trained on, you can already use TFBertModel for predictions without further training.\n"
     ]
    },
    {
     "name": "stdout",
     "output_type": "stream",
     "text": [
      "Model: \"model_2\"\n",
      "__________________________________________________________________________________________________\n",
      " Layer (type)                Output Shape                 Param #   Connected to                  \n",
      "==================================================================================================\n",
      " bert_input_ids (InputLayer  [(None, 20)]                 0         []                            \n",
      " )                                                                                                \n",
      "                                                                                                  \n",
      " bert_input_masks (InputLay  [(None, 20)]                 0         []                            \n",
      " er)                                                                                              \n",
      "                                                                                                  \n",
      " bert_segment_ids (InputLay  [(None, 20)]                 0         []                            \n",
      " er)                                                                                              \n",
      "                                                                                                  \n",
      " tf_bert_model_2 (TFBertMod  TFBaseModelOutputWithPooli   1094822   ['bert_input_ids[0][0]',      \n",
      " el)                         ngAndCrossAttentions(last_   40         'bert_input_masks[0][0]',    \n",
      "                             hidden_state=(None, 20, 76              'bert_segment_ids[0][0]']    \n",
      "                             8),                                                                  \n",
      "                              pooler_output=(None, 768)                                           \n",
      "                             , past_key_values=None, hi                                           \n",
      "                             dden_states=None, attentio                                           \n",
      "                             ns=None, cross_attentions=                                           \n",
      "                             None)                                                                \n",
      "                                                                                                  \n",
      " dense_33 (Dense)            (None, 256)                  196864    ['tf_bert_model_2[0][1]']     \n",
      "                                                                                                  \n",
      " dropout_129 (Dropout)       (None, 256)                  0         ['dense_33[0][0]']            \n",
      "                                                                                                  \n",
      " dense_34 (Dense)            (None, 256)                  65792     ['dropout_129[0][0]']         \n",
      "                                                                                                  \n",
      " dropout_130 (Dropout)       (None, 256)                  0         ['dense_34[0][0]']            \n",
      "                                                                                                  \n",
      " dense_35 (Dense)            (None, 1)                    257       ['dropout_130[0][0]']         \n",
      "                                                                                                  \n",
      "==================================================================================================\n",
      "Total params: 109745153 (418.64 MB)\n",
      "Trainable params: 109745153 (418.64 MB)\n",
      "Non-trainable params: 0 (0.00 Byte)\n",
      "__________________________________________________________________________________________________\n"
     ]
    }
   ],
   "source": [
    "#build the model\n",
    "\n",
    "inputs = [inp_id, inp_mask, inp_segment]\n",
    "\n",
    "hidden_state = transformers.TFBertModel.from_pretrained('bert-base-uncased')(inputs)\n",
    "pooled_output = hidden_state[1]\n",
    "\n",
    "dense1 = tf.keras.layers.Dense(256, activation='relu')(pooled_output)\n",
    "drop1 = tf.keras.layers.Dropout(0.25)(dense1)\n",
    "dense2 = tf.keras.layers.Dense(256, activation='relu')(drop1)\n",
    "drop2 = tf.keras.layers.Dropout(0.25)(dense2)\n",
    "\n",
    "output = tf.keras.layers.Dense(1, activation='sigmoid')(drop2)\n",
    "\n",
    "model = tf.keras.Model(inputs=inputs, outputs=output)\n",
    "\n",
    "model.compile(optimizer=tf.optimizers.Adam(learning_rate=2e-5, \n",
    "                                           epsilon=1e-08), \n",
    "              loss='binary_crossentropy', metrics=['accuracy'])\n",
    "\n",
    "model.summary()"
   ]
  },
  {
   "cell_type": "code",
   "execution_count": 289,
   "id": "16f283b9-fc9f-4f08-9d3d-5db59c2e82f4",
   "metadata": {},
   "outputs": [
    {
     "name": "stdout",
     "output_type": "stream",
     "text": [
      "Epoch 1/15\n",
      "1441/1441 [==============================] - 168s 100ms/step - loss: 0.2866 - accuracy: 0.8757 - val_loss: 0.2753 - val_accuracy: 0.8936\n",
      "Epoch 2/15\n",
      "1441/1441 [==============================] - 143s 99ms/step - loss: 0.0950 - accuracy: 0.9660 - val_loss: 0.2836 - val_accuracy: 0.9108\n",
      "Epoch 3/15\n",
      "1441/1441 [==============================] - ETA: 0s - loss: 0.0329 - accuracy: 0.9892Restoring model weights from the end of the best epoch: 1.\n",
      "1441/1441 [==============================] - 145s 101ms/step - loss: 0.0329 - accuracy: 0.9892 - val_loss: 0.4720 - val_accuracy: 0.8963\n",
      "Epoch 3: early stopping\n"
     ]
    }
   ],
   "source": [
    "es = tf.keras.callbacks.EarlyStopping(monitor='val_loss', \n",
    "                                      patience=2,\n",
    "                                      restore_best_weights=True,\n",
    "                                      verbose=1)\n",
    "history = model.fit([train_features_ids, \n",
    "           train_features_masks, \n",
    "           train_features_segments], train_l, \n",
    "          validation_data=([val_features_ids, \n",
    "                            val_features_masks, \n",
    "                            val_features_segments], val_l),\n",
    "          epochs=15, \n",
    "          batch_size=32, \n",
    "          callbacks=[es],\n",
    "          shuffle=True,\n",
    "          verbose=1)"
   ]
  },
  {
   "cell_type": "code",
   "execution_count": 290,
   "id": "4aa15771-84a7-43c7-a448-2a0b805e1bf4",
   "metadata": {},
   "outputs": [
    {
     "data": {
      "image/png": "[encoded data removed]",
      "text/plain": [
       "<Figure size 640x480 with 1 Axes>"
      ]
     },
     "metadata": {},
     "output_type": "display_data"
    },
    {
     "data": {
      "image/png": "[encoded data removed]",
      "text/plain": [
       "<Figure size 640x480 with 1 Axes>"
      ]
     },
     "metadata": {},
     "output_type": "display_data"
    }
   ],
   "source": [
    "plot_graphs(history, 'accuracy')\n",
    "plot_graphs(history, 'loss')"
   ]
  },
  {
   "cell_type": "code",
   "execution_count": 291,
   "id": "bbea555a-af77-41ff-ade4-60160beba28a",
   "metadata": {},
   "outputs": [
    {
     "name": "stdout",
     "output_type": "stream",
     "text": [
      "Test Features: (2851, 20) (2851, 20) (2851, 20)\n"
     ]
    }
   ],
   "source": [
    "test_features_ids, test_features_masks, test_features_segments = create_bert_input_features(tokenizer, \n",
    "                                                                                            test_hl, \n",
    "                                                                                            max_seq_length=MAX_SEQ_LENGTH)\n",
    "print('Test Features:', test_features_ids.shape, test_features_masks.shape, test_features_segments.shape)"
   ]
  },
  {
   "cell_type": "code",
   "execution_count": 292,
   "id": "ca622e22-e4fd-4f3b-80b3-ed9af1c59760",
   "metadata": {},
   "outputs": [
    {
     "name": "stdout",
     "output_type": "stream",
     "text": [
      "Accuracy: 90.49%\n",
      "              precision    recall  f1-score   support\n",
      "\n",
      "           0       0.87      0.97      0.92      1516\n",
      "           1       0.95      0.84      0.89      1335\n",
      "\n",
      "    accuracy                           0.90      2851\n",
      "   macro avg       0.91      0.90      0.90      2851\n",
      "weighted avg       0.91      0.90      0.90      2851\n",
      "\n"
     ]
    },
    {
     "data": {
      "text/html": [
       "<div>\n",
       "<style scoped>\n",
       "    .dataframe tbody tr th:only-of-type {\n",
       "        vertical-align: middle;\n",
       "    }\n",
       "\n",
       "    .dataframe tbody tr th {\n",
       "        vertical-align: top;\n",
       "    }\n",
       "\n",
       "    .dataframe thead th {\n",
       "        text-align: right;\n",
       "    }\n",
       "</style>\n",
       "<table border=\"1\" class=\"dataframe\">\n",
       "  <thead>\n",
       "    <tr style=\"text-align: right;\">\n",
       "      <th></th>\n",
       "      <th>0</th>\n",
       "      <th>1</th>\n",
       "    </tr>\n",
       "  </thead>\n",
       "  <tbody>\n",
       "    <tr>\n",
       "      <th>0</th>\n",
       "      <td>1463</td>\n",
       "      <td>53</td>\n",
       "    </tr>\n",
       "    <tr>\n",
       "      <th>1</th>\n",
       "      <td>218</td>\n",
       "      <td>1117</td>\n",
       "    </tr>\n",
       "  </tbody>\n",
       "</table>\n",
       "</div>"
      ],
      "text/plain": [
       "      0     1\n",
       "0  1463    53\n",
       "1   218  1117"
      ]
     },
     "execution_count": 292,
     "metadata": {},
     "output_type": "execute_result"
    }
   ],
   "source": [
    "\n",
    "bert_predictions = [1 if pr > 0.5 else 0 \n",
    "                   for pr in model.predict([test_features_ids, \n",
    "                                            test_features_masks, \n",
    "                                            test_features_segments], verbose=0).ravel()]\n",
    "\n",
    "print(\"Accuracy: %.2f%%\" % (accuracy_score(test_l, bert_predictions)*100))\n",
    "print(classification_report(test_l, bert_predictions))\n",
    "pd.DataFrame(confusion_matrix(test_l, bert_predictions))"
   ]
  },
  {
   "cell_type": "code",
   "execution_count": null,
   "id": "02fecd7b-8eb4-412d-af21-3e339b889349",
   "metadata": {},
   "outputs": [],
   "source": []
  }
 ],
 "metadata": {
  "kernelspec": {
   "display_name": "Python 3 (ipykernel)",
   "language": "python",
   "name": "python3"
  },
  "language_info": {
   "codemirror_mode": {
    "name": "ipython",
    "version": 3
   },
   "file_extension": ".py",
   "mimetype": "text/x-python",
   "name": "python",
   "nbconvert_exporter": "python",
   "pygments_lexer": "ipython3",
   "version": "3.11.0rc1"
  }
 },
 "nbformat": 4,
 "nbformat_minor": 5
}
